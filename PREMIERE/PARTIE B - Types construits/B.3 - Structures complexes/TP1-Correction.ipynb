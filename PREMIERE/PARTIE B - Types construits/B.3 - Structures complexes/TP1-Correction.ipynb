{
 "cells": [
  {
   "cell_type": "markdown",
   "metadata": {},
   "source": [
    "# Exercice 1 - Questions\n",
    "\n",
    "1. On considère le script suivant :\n",
    "```python \n",
    "t = [2, 8, 9, 2]\n",
    "t[2] = t[2] + 5\n",
    "```\n",
    "\n",
    "Quelle est la valeur de t à la fin de son exécution ?"
   ]
  },
  {
   "cell_type": "raw",
   "metadata": {
    "vscode": {
     "languageId": "raw"
    }
   },
   "source": [
    "[2, 8 , 14, 2]"
   ]
  },
  {
   "cell_type": "markdown",
   "metadata": {},
   "source": [
    "2. Quelle est la valeur de la variable r à la fin de l'exécution du script suivant ?\n",
    "```python\n",
    "t = (10,6,1,12,15)\n",
    "r = t[3] - t[1]\n",
    "```"
   ]
  },
  {
   "cell_type": "raw",
   "metadata": {
    "vscode": {
     "languageId": "raw"
    }
   },
   "source": [
    "6"
   ]
  },
  {
   "cell_type": "markdown",
   "metadata": {},
   "source": [
    "3. On considère la liste de listes suivante :\n",
    "```python\n",
    "tictactoe = [['X', 'O', 'O'],\n",
    "             ['O', 'O', 'O'],\n",
    "             ['O', 'O', 'X']]\n",
    "```\n",
    "Quelle instruction permet d'obtenir une diagonale de 'X' ?"
   ]
  },
  {
   "cell_type": "raw",
   "metadata": {
    "vscode": {
     "languageId": "raw"
    }
   },
   "source": [
    "tictactoe[1][1] = 'X'"
   ]
  },
  {
   "cell_type": "markdown",
   "metadata": {},
   "source": [
    "Après l'affectation suivante :\n",
    "```python\n",
    "alphabet = [\t'A', 'B', 'C', 'D', 'E', 'F', 'G', 'H', 'I', 'J', 'K', 'L', 'M', 'N', 'O', 'P', 'Q', 'R', 'S', 'T', 'U', 'V', 'W', 'X', 'Y', 'Z'  ]\n",
    "```\n",
    "quelle est l'expression qui permet d'accéder à la lettre E ?"
   ]
  },
  {
   "cell_type": "raw",
   "metadata": {
    "vscode": {
     "languageId": "raw"
    }
   },
   "source": [
    "alphabet[4]"
   ]
  },
  {
   "cell_type": "markdown",
   "metadata": {
    "vscode": {
     "languageId": "raw"
    }
   },
   "source": [
    "# Exercice 2\n",
    "Compléter la fonction `get_colonne` qui prend en paramètres une liste de listes, un entier `colonne` et renvoie la liste des éléments de la colonne `colonne`.\n"
   ]
  },
  {
   "cell_type": "code",
   "execution_count": null,
   "metadata": {},
   "outputs": [],
   "source": [
    "def get_colonne(m, n_colonne) -> list :\n",
    "    \"\"\"\n",
    "    Entrée : m : une liste de listes, un entier n_colonne le numéro de la colonne\n",
    "    Sortie : colonne : une liste dont les éléments sont les éléments de la colonne numéro n_colonne\n",
    "    \"\"\"\n",
    "    colonne = [0] * len(m)                  # On créer un tableau de la taille du nombre de lignes\n",
    "    for i in range(...) :                   # On parcourt les lignes\n",
    "        colonne[...] = m[i][...]            # On ajoute l'élément de la colonne n_colonne à la ligne i\n",
    "    return ....                             \n",
    "\n",
    "# Tests\n",
    "\n",
    "m = [[1, 3, 4],\n",
    "     [5, 6, 8],\n",
    "     [2, 1, 3],\n",
    "     [7, 8, 15]]\n",
    "assert get_colonne(m, 0) == [1, 5, 2, 7]\n",
    "assert get_colonne(m, 2) == [4, 8, 3, 15]\n",
    "###CORRECTION###\n",
    "def get_colonne(m, n_colonne) -> list :\n",
    "    \"\"\"\n",
    "    Entrée : m : une liste de listes, un entier n_colonne le numéro de la colonne\n",
    "    Sortie : colonne : une liste dont les éléments sont les éléments de la colonne numéro n_colonne\n",
    "    \"\"\"\n",
    "    colonne = [0] * len(m)                  # On créer un tableau de la taille du nombre de lignes\n",
    "    for i in range(m) :                   # On parcourt les lignes\n",
    "        colonne[i] = m[i][n_colonne]            # On ajoute l'élément de la colonne n_colonne à la ligne i\n",
    "    return colonne                             \n",
    "\n",
    "# Tests\n",
    "\n",
    "m = [[1, 3, 4],\n",
    "     [5, 6, 8],\n",
    "     [2, 1, 3],\n",
    "     [7, 8, 15]]\n",
    "assert get_colonne(m, 0) == [1, 5, 2, 7]\n",
    "assert get_colonne(m, 2) == [4, 8, 3, 15]"
   ]
  },
  {
   "cell_type": "markdown",
   "metadata": {},
   "source": [
    "# Exercice 3\n",
    "On vous aidant de l'exercice 2, proposer une fonction `get_ligne`."
   ]
  },
  {
   "cell_type": "code",
   "execution_count": null,
   "metadata": {},
   "outputs": [],
   "source": [
    "def get_ligne(m, n_ligne) -> list :\n",
    "    \"\"\"\n",
    "    Entrée : m : une liste de listes, un entier n_ligne le numéro de la ligne\n",
    "    Sortie : ligne : une liste dont les éléments sont les éléments de la ligne numéro n_ligne\n",
    "    \"\"\"\n",
    "\n",
    "#### CORRECTION ####\n",
    "def get_ligne(m, n_ligne) -> list :\n",
    "    \"\"\"\n",
    "    Entrée : m : une liste de listes, un entier n_ligne le numéro de la ligne\n",
    "    Sortie : ligne : une liste dont les éléments sont les éléments de la ligne numéro n_ligne\n",
    "    \"\"\"\n",
    "    ligne = [0] * len(m[0])                  # On créer un tableau de la taille du nombre de colonnes\n",
    "    for i in range(len(m[0])) :                   # On parcourt les colonnes\n",
    "        ligne[i] = m[n_ligne][i]            # On ajoute l'élément de la colonne n_colonne à la ligne i\n",
    "    return ligne\n",
    "    "
   ]
  },
  {
   "cell_type": "markdown",
   "metadata": {},
   "source": [
    "# Exercice 4\n",
    "Un magasin en ligne stocke ses commandes sous forme d’une liste de dictionnaires, où chaque dictionnaire représente une commande passée par un client. Voici un exemple de structure des données :"
   ]
  },
  {
   "cell_type": "code",
   "execution_count": null,
   "metadata": {},
   "outputs": [],
   "source": [
    "commandes = [\n",
    "    {\"id\": 1, \"client\": \"Alice\", \"total\": 52.40, \"statut\": \"en cours\"},\n",
    "    {\"id\": 2, \"client\": \"Bob\", \"total\": 23.99, \"statut\": \"livrée\"},\n",
    "    {\"id\": 3, \"client\": \"Charlie\", \"total\": 120.00, \"statut\": \"en cours\"},\n",
    "    {\"id\": 4, \"client\": \"Alice\", \"total\": 10.50, \"statut\": \"livrée\"},\n",
    "]"
   ]
  },
  {
   "cell_type": "markdown",
   "metadata": {},
   "source": [
    "1. Compléter la fonction `commandes_client(nom_client, commandes)` qui prend en paramètre un nom de client et la liste des commandes, et qui renvoie la liste des commandes de ce client."
   ]
  },
  {
   "cell_type": "code",
   "execution_count": null,
   "metadata": {},
   "outputs": [],
   "source": [
    "def commandes_client(nom_client, commandes) -> list :\n",
    "    \"\"\"\n",
    "    Entrée : nom_client une chaine de caractères, commandes une liste de dictionnaires\n",
    "    Sortie : liste_commandes une liste de dictionnaires dont le client est nom_client\n",
    "    \"\"\"\n",
    "    liste_commandes = ...\n",
    "    for i in range(len(commandes)) :\n",
    "        if commandes[i][\"client\"] == ... :\n",
    "            liste_commandes.append(...)\n",
    "    return ...\n",
    "\n",
    "#### CORRECTION #### \n",
    "def commandes_client(nom_client, commandes) -> list :\n",
    "    \"\"\"\n",
    "    Entrée : nom_client une chaine de caractères, commandes une liste de dictionnaires\n",
    "    Sortie : liste_commandes une liste de dictionnaires dont le client est nom_client\n",
    "    \"\"\"\n",
    "    liste_commandes = []\n",
    "    for i in range(len(commandes)) :\n",
    "        if commandes[i][\"client\"] == nom_client :\n",
    "            liste_commandes.append(liste_commandes[i])\n",
    "    return liste_commandes"
   ]
  },
  {
   "cell_type": "markdown",
   "metadata": {},
   "source": [
    "2. Compléter la fonction `total_commandes_en_cours(commandes)` qui renvoie le montant total des commandes avec le statut \"en cours\"."
   ]
  },
  {
   "cell_type": "code",
   "execution_count": null,
   "metadata": {},
   "outputs": [],
   "source": [
    "def total_commandes_en_cours(commandes):\n",
    "    \"\"\"\n",
    "    Entrée : commandes une liste de dictionnaires\n",
    "    Sortie : total un flottant, la somme des totaux des commandes en cours\n",
    "    \"\"\"\n",
    "    total = ...\n",
    "    for i in range(...) :\n",
    "        if commandes[i][...] == \"en cours\" :\n",
    "            total = total + ...\n",
    "    return ...\n",
    "\n",
    "\n",
    "#### CORRECTION ####\n",
    "def total_commandes_en_cours(commandes):\n",
    "    \"\"\"\n",
    "    Entrée : commandes une liste de dictionnaires\n",
    "    Sortie : total un flottant, la somme des totaux des commandes en cours\n",
    "    \"\"\"\n",
    "    total = 0\n",
    "    for i in range(len) :\n",
    "        if commandes[i][\"statut\"] == \"en cours\" :\n",
    "            total = total + 1\n",
    "    return total"
   ]
  },
  {
   "cell_type": "markdown",
   "metadata": {},
   "source": [
    "3. Écrire une fonction `livrer_commande(id_commande, commandes)` qui met à jour le statut d'une commande donnée (passée en paramètre via son id) et le met à \"livrée\"."
   ]
  },
  {
   "cell_type": "code",
   "execution_count": null,
   "metadata": {},
   "outputs": [],
   "source": [
    "#### CORRECTION ####\n",
    "def livrer_commande(id_commande, commandes):\n",
    "    \"\"\"\n",
    "    Entrée : id_commande un entier, commandes une liste de dictionnaires\n",
    "    Sortie : commandes une liste de dictionnaires dont la commande d'identifiant id_commande est passée à \"livrée\"\n",
    "    \"\"\"\n",
    "    for i in range(len(commandes)) :\n",
    "        if commandes[i][\"id\"] == id_commande :\n",
    "            commandes[i][\"statut\"] = \"livrée\"\n",
    "    return commandes"
   ]
  }
 ],
 "metadata": {
  "kernelspec": {
   "display_name": "Python 3",
   "language": "python",
   "name": "python3"
  },
  "language_info": {
   "codemirror_mode": {
    "name": "ipython",
    "version": 3
   },
   "file_extension": ".py",
   "mimetype": "text/x-python",
   "name": "python",
   "nbconvert_exporter": "python",
   "pygments_lexer": "ipython3",
   "version": "3.13.2"
  }
 },
 "nbformat": 4,
 "nbformat_minor": 2
}
