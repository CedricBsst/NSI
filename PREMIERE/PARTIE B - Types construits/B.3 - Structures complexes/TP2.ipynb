{
 "cells": [
  {
   "cell_type": "markdown",
   "metadata": {},
   "source": [
    "# Exercice 1\n",
    "Un magasin en ligne stocke ses commandes sous forme d’une liste de dictionnaires, où chaque dictionnaire représente une commande passée par un client. Voici un exemple de structure des données :"
   ]
  },
  {
   "cell_type": "code",
   "execution_count": null,
   "metadata": {},
   "outputs": [],
   "source": [
    "commandes = [\n",
    "    {\"id\": 1, \"client\": \"Alice\", \"total\": 52.40, \"statut\": \"en cours\"},\n",
    "    {\"id\": 2, \"client\": \"Bob\", \"total\": 23.99, \"statut\": \"livrée\"},\n",
    "    {\"id\": 3, \"client\": \"Charlie\", \"total\": 120.00, \"statut\": \"en cours\"},\n",
    "    {\"id\": 4, \"client\": \"Alice\", \"total\": 10.50, \"statut\": \"livrée\"},\n",
    "]"
   ]
  },
  {
   "cell_type": "markdown",
   "metadata": {},
   "source": [
    "1. Compléter la fonction `commandes_client(nom_client, commandes)` qui prend en paramètre un nom de client et la liste des commandes, et qui renvoie la liste des commandes de ce client."
   ]
  },
  {
   "cell_type": "code",
   "execution_count": null,
   "metadata": {},
   "outputs": [],
   "source": [
    "def commandes_client(nom_client, commandes) -> list :\n",
    "    \"\"\"\n",
    "    Entrée : nom_client une chaine de caractères, commandes une liste de dictionnaires\n",
    "    Sortie : liste_commandes une liste de dictionnaires dont le client est nom_client\n",
    "    \"\"\"\n",
    "    liste_commandes = ...\n",
    "    for i in range(...) :\n",
    "        if commandes[...][...] == ... :\n",
    "            liste_commandes....\n",
    "    return ..."
   ]
  },
  {
   "cell_type": "markdown",
   "metadata": {},
   "source": [
    "2. Ecrire la fonction `total_commandes_en_cours(commandes)` qui renvoie le montant total des commandes avec le statut \"en cours\"."
   ]
  },
  {
   "cell_type": "code",
   "execution_count": null,
   "metadata": {},
   "outputs": [],
   "source": []
  },
  {
   "cell_type": "markdown",
   "metadata": {},
   "source": [
    "3. Écrire une fonction `livrer_commande(id_commande, commandes)` qui met à jour le statut d'une commande donnée (passée en paramètre via son id) et le met à \"livrée\"."
   ]
  },
  {
   "cell_type": "code",
   "execution_count": null,
   "metadata": {},
   "outputs": [],
   "source": []
  },
  {
   "cell_type": "markdown",
   "metadata": {},
   "source": [
    "# Exercice 2\n",
    "\n",
    "Un explorateur cartographie une île en utilisant une grille carrée. L'île est représentée sous forme d'une liste de listes, où chaque élément est un nombre entier indiquant le type de terrain :\n",
    "\n",
    "0 = Eau 🌊\n",
    "1 = Terre 🌿\n",
    "2 = Montagne ⛰️\n",
    "\n",
    "Voici un exemple de carte :"
   ]
  },
  {
   "cell_type": "code",
   "execution_count": 2,
   "metadata": {},
   "outputs": [
    {
     "name": "stdout",
     "output_type": "stream",
     "text": [
      "🌊 🌊 🌿 🌿 🌊\n",
      "🌊 🌿 🌿 ⛰️ 🌿\n",
      "🌿 🌿 🌊 ⛰️ 🌿\n",
      "🌊 🌿 🌿 🌿 🌊\n",
      "🌊 🌊 🌿 🌊 🌊\n"
     ]
    }
   ],
   "source": [
    "carte = [\n",
    "    [0, 0, 1, 1, 0],\n",
    "    [0, 1, 1, 2, 1],\n",
    "    [1, 1, 0, 2, 1],\n",
    "    [0, 1, 1, 1, 0],\n",
    "    [0, 0, 1, 0, 0],\n",
    "]\n",
    "\n",
    "def affiche_carte(carte):\n",
    "    # Dictionnaire associant les valeurs aux symboles\n",
    "    symboles = {\n",
    "        0: \"🌊\",  # Eau\n",
    "        1: \"🌿\",  # Terre\n",
    "        2: \"⛰️\"   # Montagne\n",
    "    }\n",
    "    \n",
    "    # Affichage ligne par ligne\n",
    "    for ligne in carte:\n",
    "        print(\" \".join(symboles[val] for val in ligne))\n",
    "affiche_carte(carte)"
   ]
  },
  {
   "cell_type": "markdown",
   "metadata": {},
   "source": [
    "1. Compléter la fonction `compter_cases(carte, type_terrain)` qui renvoie le nombre de cases contenant la valeur type_terrain (0, 1 ou 2)."
   ]
  },
  {
   "cell_type": "code",
   "execution_count": 3,
   "metadata": {},
   "outputs": [],
   "source": [
    "def compter_cases(carte, type_terrain) -> int :\n",
    "    \"\"\"\n",
    "    Entrée : carte une liste de listes d'entiers, type_terrain un entier\n",
    "    Sortie : nb_cases un entier, le nombre de cases de type type_terrain\n",
    "    \"\"\"\n",
    "    nb_cases = ...\n",
    "    for i in range(...) :\n",
    "        for j in range(...) :\n",
    "            if carte[...][...] == ... :\n",
    "                nb_cases = ...\n",
    "    return ..."
   ]
  },
  {
   "cell_type": "markdown",
   "metadata": {},
   "source": [
    "2. Écrire une fonction `est_montagne(carte, x, y)` qui renvoie `True` si la case `(x, y)` contient une montagne (2), et `False` sinon."
   ]
  },
  {
   "cell_type": "code",
   "execution_count": null,
   "metadata": {},
   "outputs": [],
   "source": []
  },
  {
   "cell_type": "markdown",
   "metadata": {},
   "source": [
    "3. On considère un joueur représenté par l'emoji 🧍.\n",
    "\n",
    "Réécrire la fonction `affiche_carte` pour qu'elle prennent en paramètre la carte et la position du joueur et qu'elle affiche le joueur sur la carte."
   ]
  },
  {
   "cell_type": "code",
   "execution_count": null,
   "metadata": {},
   "outputs": [],
   "source": []
  },
  {
   "cell_type": "markdown",
   "metadata": {},
   "source": [
    "4. Écrire la fonction gauche qui prend une carte et la position du joueur en paramètre et qui renvoie un tuple contenant la nouvelle position du joueur lorsqu'il effectue un déplacement d'une case vers la gauche.\n",
    "\n",
    "- Si le joueur dépasse les limites du monde le déplacement n'a pas lieu, on renvoie la position actuel du joueur.\n",
    "- Le joueur ne sait pas escalader les montagnes et ne sait pas nager. S'il arrive sur une case eau ou sur une case montagne, le déplacement n'a pas lieu, on renvoie la position actuel du joueur."
   ]
  },
  {
   "cell_type": "code",
   "execution_count": null,
   "metadata": {},
   "outputs": [],
   "source": []
  }
 ],
 "metadata": {
  "kernelspec": {
   "display_name": "Python 3",
   "language": "python",
   "name": "python3"
  },
  "language_info": {
   "codemirror_mode": {
    "name": "ipython",
    "version": 3
   },
   "file_extension": ".py",
   "mimetype": "text/x-python",
   "name": "python",
   "nbconvert_exporter": "python",
   "pygments_lexer": "ipython3",
   "version": "3.10.5"
  }
 },
 "nbformat": 4,
 "nbformat_minor": 2
}
