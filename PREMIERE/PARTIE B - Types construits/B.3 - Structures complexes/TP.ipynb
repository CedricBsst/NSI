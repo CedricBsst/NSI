{
 "cells": [
  {
   "cell_type": "markdown",
   "metadata": {},
   "source": [
    "# TP - Structures complexes\n",
    "\n",
    "## Exercice 1\n",
    "Pour chacune des structures suivantes, écrire le code permettant de récupérer la valeur 3 et de l'afficher."
   ]
  },
  {
   "cell_type": "code",
   "execution_count": 1,
   "metadata": {},
   "outputs": [
    {
     "name": "stdout",
     "output_type": "stream",
     "text": [
      "8\n",
      "Ellipsis\n",
      "Ellipsis\n",
      "Ellipsis\n",
      "Ellipsis\n",
      "Ellipsis\n"
     ]
    }
   ],
   "source": [
    "# Exemple\n",
    "liste1 = [0, 2, 4, 3, 8]\n",
    "print(liste1[4])\n",
    "\n",
    "#Liste \n",
    "l1 = [0,1,2,3,4,5,6,7,8,9]\n",
    "print(...)\n",
    "\n",
    "#Liste de listes\n",
    "l2 = [[1,5,2,1,5], [0,1], [4,3,0,9]]\n",
    "print(...)\n",
    "\n",
    "#Dictionnaire\n",
    "d1 = {'a': 1, 'b': 2, 'c': 3}\n",
    "print(...)\n",
    "\n",
    "#Listes de dictionnaires\n",
    "l3 = [{'a': 1, 'b': 2}, {'c': 3, 'd': 4}]\n",
    "print(...)\n",
    "\n",
    "#Dictionnaire de listes\n",
    "d2 = {'a': [1, 2, 3], 'b': [4, 5, 6]}\n",
    "print(...)"
   ]
  },
  {
   "cell_type": "markdown",
   "metadata": {},
   "source": [
    "## Exercice 2\n",
    "Compléter la fonction `affiche` qui prend en paramètre une liste de liste et qui affiche tous les éléments de la liste de liste sur une unique ligne.\n",
    "\n",
    "**Exemple :**\n",
    "```python\n",
    ">>> affiche([1,2,3],[5,1,2,6],[0,1,4])\n",
    "\"1 2 3 5 1 2 6 0 1 4\"\n",
    "```"
   ]
  },
  {
   "cell_type": "code",
   "execution_count": 2,
   "metadata": {},
   "outputs": [],
   "source": [
    "def affiche(t):\n",
    "    for i in range(...):\n",
    "        for j in range(...):\n",
    "            print(..., end=' ')"
   ]
  },
  {
   "cell_type": "markdown",
   "metadata": {},
   "source": [
    "## Exercice 3\n",
    "Ecrire une fonction `extraire_valeur`\n",
    "- La fonction doit prendre deux paramètres :\n",
    "   - `liste_dicos` : une liste de dictionnaires.\n",
    "   - `cle` : une chaîne de caractères représentant la clé dont on veut extraire les valeurs.\n",
    "- La fonction doit retourner une liste contenant toutes les valeurs associées à la clé donnée dans chaque dictionnaire de la liste.\n",
    "\n",
    "**Exemple :**\n",
    "```python\n",
    "liste_dicos = [{'a': 1, 'b': 2}, {'a': 3, 'c': 4}, {'a': 5, 'b': 6}]\n",
    "cle = 'a'\n",
    "print(extraire_valeurs(liste_dicos, cle))  # Doit afficher [1, 3, 5]\n",
    "```"
   ]
  },
  {
   "cell_type": "code",
   "execution_count": null,
   "metadata": {},
   "outputs": [],
   "source": [
    "# Ecrire votre fonctio ici"
   ]
  },
  {
   "cell_type": "markdown",
   "metadata": {},
   "source": [
    "## Exercice 4 \n",
    "On considère un dictionnaire dans lesquelles les clés correspondent aux noms des élèves et les valeurs sont des listes contenant les notes de chaque élèves.\n",
    "\n",
    "**Exemple :**\n",
    "```python\n",
    "notes = {\"Pierre\":[15, 18, 19, 12, 13], \"Paul\":[8, 2, 4, 3, 10], \"Jacques\":[1, 10, 15, 20, 12]}\n",
    "```\n",
    "\n",
    "On souhaite obtenir la moyenne de la classe. Pour cela, il faut calculer la moyenne de chaque élève, puis la moyenne de toutes ces moyennes.\n",
    "\n",
    "Proposer un fonction permettant d'obtenir la moyenne de la classe."
   ]
  },
  {
   "cell_type": "code",
   "execution_count": null,
   "metadata": {},
   "outputs": [],
   "source": [
    "# Ecrire votre fonction ici !"
   ]
  },
  {
   "cell_type": "markdown",
   "metadata": {},
   "source": [
    "### Pour aller plus loin\n",
    "On souhaite enregistré toutes les notes des élèves. A chaque note est associé le nom du devoir, le nom de l'élève, un coefficient et une matière. \n",
    "\n",
    "1. Proposer une structure de données permettant de représenter cette situation.\n",
    "2. Coder un exemple \n",
    "3. Réécrire la fonction permettant d'obtenir la moyenne de la classe."
   ]
  }
 ],
 "metadata": {
  "kernelspec": {
   "display_name": "Python 3",
   "language": "python",
   "name": "python3"
  },
  "language_info": {
   "codemirror_mode": {
    "name": "ipython",
    "version": 3
   },
   "file_extension": ".py",
   "mimetype": "text/x-python",
   "name": "python",
   "nbconvert_exporter": "python",
   "pygments_lexer": "ipython3",
   "version": "3.10.5"
  }
 },
 "nbformat": 4,
 "nbformat_minor": 2
}
