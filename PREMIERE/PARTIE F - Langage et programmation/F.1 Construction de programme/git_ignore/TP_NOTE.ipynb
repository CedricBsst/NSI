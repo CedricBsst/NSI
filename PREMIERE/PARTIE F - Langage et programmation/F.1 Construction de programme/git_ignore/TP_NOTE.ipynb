{
 "cells": [
  {
   "cell_type": "markdown",
   "metadata": {},
   "source": [
    "# F.1 - Construction de programme | TP Bilan\n",
    "\n",
    "## Exercice 1\n",
    "En vous aidant de Python et des TP précédents indiquer pour chaque ensemble suivants à l'aide de quel type on peut les représenter en python.\n",
    "\n",
    "*Exemple :*\n",
    "Entier -> int"
   ]
  },
  {
   "cell_type": "raw",
   "metadata": {
    "vscode": {
     "languageId": "raw"
    }
   },
   "source": [
    "Nombre à virgule ->\n",
    "Chaîne de caractères ->\n",
    "Booléen ->"
   ]
  },
  {
   "cell_type": "markdown",
   "metadata": {},
   "source": [
    "## Exercice 2\n",
    "On considère le programme suivant :"
   ]
  },
  {
   "cell_type": "raw",
   "metadata": {
    "vscode": {
     "languageId": "raw"
    }
   },
   "source": [
    "a = 15.0\n",
    "b = 2\n",
    "a = a / 2\n",
    "b = b + a\n",
    "c = a * b - b + a"
   ]
  },
  {
   "cell_type": "markdown",
   "metadata": {},
   "source": [
    "1. Quelle est la valeur de la variable ```c``` a la fin du programme ?"
   ]
  },
  {
   "cell_type": "raw",
   "metadata": {
    "vscode": {
     "languageId": "raw"
    }
   },
   "source": [
    "VOTRE REPONSE ICI !"
   ]
  },
  {
   "cell_type": "markdown",
   "metadata": {},
   "source": [
    "2. Quelle est le type de la variable ```c``` a la fin du programme ?"
   ]
  },
  {
   "cell_type": "raw",
   "metadata": {
    "vscode": {
     "languageId": "raw"
    }
   },
   "source": [
    "VOTRE REPONSE ICI !"
   ]
  },
  {
   "cell_type": "markdown",
   "metadata": {},
   "source": [
    "## Exercice 3\n",
    "Paul a écrit un programme qui donne la moyenne de trois notes différentes. Une erreur est survenu lors de la sauvegarde de son document, certaine partie du code on été effacée. Aidez le à compléter son programme :"
   ]
  },
  {
   "cell_type": "code",
   "execution_count": 3,
   "metadata": {},
   "outputs": [
    {
     "ename": "SyntaxError",
     "evalue": "cannot assign to ellipsis here. Maybe you meant '==' instead of '='? (3499698894.py, line 5)",
     "output_type": "error",
     "traceback": [
      "\u001b[1;36m  Cell \u001b[1;32mIn [3], line 5\u001b[1;36m\u001b[0m\n\u001b[1;33m    ... = note_1 + ...\u001b[0m\n\u001b[1;37m    ^\u001b[0m\n\u001b[1;31mSyntaxError\u001b[0m\u001b[1;31m:\u001b[0m cannot assign to ellipsis here. Maybe you meant '==' instead of '='?\n"
     ]
    }
   ],
   "source": [
    "note_1 = int(input(\"Quelle est votre première note ?\"))\n",
    "note_2 = ...(input(\"Quelle est votre seconde note ?\"))\n",
    "note_3 = ...(input(\"Quelle est votre troisème note ?\"))\n",
    "\n",
    "... = note_1 + ... \n",
    "moyenne = somme_notes/3\n",
    "\n",
    "# Affichage du résultat\n",
    "...(\"Votre moyenne est de \", ...)"
   ]
  },
  {
   "cell_type": "markdown",
   "metadata": {},
   "source": [
    "Alex a écrit un programme qui lui permet de calculer l'hypoténuse d'un triangle rectangle à l'aide du théorème de pythagore. \n",
    "Cependant, lors de l'affichage du résultat elle obtient une erreur. \n",
    "\n",
    "Expliquer l'erreur qu'Alex a fait puis corriger sur son code."
   ]
  },
  {
   "cell_type": "code",
   "execution_count": null,
   "metadata": {},
   "outputs": [],
   "source": [
    "import math\n",
    "cote_AB = int(input(\"AB ?\"))\n",
    "cote_AC = int(input(\"AC ?\"))\n",
    "\n",
    "hypo = math.sqrt(cote_AB*cote_AB + cote_AC+cote_AC)\n",
    "\n",
    "print(\"La longueur de l'hypoténuse est \" + hypo)"
   ]
  },
  {
   "cell_type": "raw",
   "metadata": {
    "vscode": {
     "languageId": "raw"
    }
   },
   "source": [
    "Expliquer son erreur ici !"
   ]
  },
  {
   "cell_type": "markdown",
   "metadata": {},
   "source": [
    "## Exercice 4\n",
    "1. Ecrire un programme qui demande le rayon d'un cercle et qui affiche son perimetre.\n",
    "\n",
    "> Rappel : $Perimetre = 2 \\times rayon \\times π$\n",
    "> On prendra π = 3.14\n",
    "\n"
   ]
  },
  {
   "cell_type": "raw",
   "metadata": {},
   "source": []
  },
  {
   "cell_type": "markdown",
   "metadata": {},
   "source": [
    "2. Ecrire un programme qui demande deux valeurs à l'utilisateur et qui affiche ```True``` si la première valeur est plus grande que la seconde."
   ]
  },
  {
   "cell_type": "raw",
   "metadata": {},
   "source": []
  }
 ],
 "metadata": {
  "kernelspec": {
   "display_name": "Python 3",
   "language": "python",
   "name": "python3"
  },
  "language_info": {
   "codemirror_mode": {
    "name": "ipython",
    "version": 3
   },
   "file_extension": ".py",
   "mimetype": "text/x-python",
   "name": "python",
   "nbconvert_exporter": "python",
   "pygments_lexer": "ipython3",
   "version": "3.10.5"
  }
 },
 "nbformat": 4,
 "nbformat_minor": 2
}
