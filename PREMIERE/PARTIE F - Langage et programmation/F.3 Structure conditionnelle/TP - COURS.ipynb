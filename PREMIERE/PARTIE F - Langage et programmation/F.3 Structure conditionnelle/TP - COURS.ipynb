{
 "cells": [
  {
   "cell_type": "markdown",
   "metadata": {},
   "source": [
    "# TP - COURS - Structures conditionnelles\n",
    "\n",
    "Lors des TP précédents, nous avons vvu comment écrire des séquences d'instructions et des fonctions. Cependant, nous souhaitons parfois qu'une séquence d'instructions ne s’exécute que sous certaine conditions. Par exemple, si nous souhaitons vérifier l'âge d'un utilisateur avant d'exécuter une partie de nos instructions.\n",
    "\n",
    "Pour faire cela, nous devons utiliser une structure conditionnelle.\n",
    "\n",
    "Une instruction conditionnelle commence par le mot-clé ```if``` (SI) suivi d'une valeur booléenne. L'instruction conditionnelle se termine par deux points (```:```)\n",
    "\n",
    "Pour spécifier les instructions à réaliser lorsque l'instruction conditionnelle est vrai, il faut les indenter.\n",
    "\n",
    "**Exemple :**"
   ]
  },
  {
   "cell_type": "code",
   "execution_count": null,
   "metadata": {},
   "outputs": [],
   "source": [
    "age = int(input(\"Quel est votre âge ?\"))\n",
    "if age >= 18:\n",
    "    print(\"vous ête majeur\")"
   ]
  },
  {
   "cell_type": "markdown",
   "metadata": {},
   "source": [
    "Ici, le programme affichera ```Vous êtes majeur``` uniquement si la condition ```age >= 18``` vaut ```True``` (VRAI) \n",
    "\n",
    "**Q.1**  \n",
    "Compléter la fonction ```positif(nombre)``` qui prend un nombre en paramètre et qui affiche positif dans la console si le nombre est positif \n",
    "\n",
    "(Le mot-clé ```pass``` permet d'indiquer à Python que le code n'est pas encore écrit. Cela permet d'éviter de déclencher une erreur lorsque l'on teste son programme alors que certaine instructions ne sont pas encore écrites. **Vous devez donc supprimer le mot ```pass``` puis mettre votre code à la place)"
   ]
  },
  {
   "cell_type": "code",
   "execution_count": null,
   "metadata": {},
   "outputs": [],
   "source": [
    "def positif(nombre):\n",
    "    '''Affiche positif dans la console si nombre est positif\n",
    "    :param:nombre (int|float)\n",
    "    '''\n",
    "    pass\n",
    "\n",
    "# N'oubliez pas de tester votre fonction ici !"
   ]
  },
  {
   "cell_type": "markdown",
   "metadata": {},
   "source": [
    "**Q.2**  \n",
    "Ajouter à votre fonction ```positif``` les assertions qui permettront de vérifier que nombre et bien de type ```int``` ou de type ```float```"
   ]
  },
  {
   "cell_type": "markdown",
   "metadata": {},
   "source": [
    "Parfois, nous souhaitons exécuter une suite d'instructions lorsque la condition est vérifiée et une suite différentes lorsqu'elle n'est ne l'est pas.\n",
    "\n",
    "Pour cela, il est possible d'utiliser le mot-clé ```else``` (SINON) suivi de deux points ```:``` comme dans l'exemple ci-dessous."
   ]
  },
  {
   "cell_type": "code",
   "execution_count": null,
   "metadata": {},
   "outputs": [],
   "source": [
    "# On demande l'age de l'utilisateur, s'il a plus de 18 ans, on affiche vous êtes majeur dans la console sinon on affiche mineur\n",
    "age = int(input(\"Quel est votre age ?\"))\n",
    "if age >= 18:\n",
    "    print(\"Vous êtes majeur\")\n",
    "else:\n",
    "    print(\"Vous êtes mineur\")"
   ]
  },
  {
   "cell_type": "markdown",
   "metadata": {},
   "source": [
    "**Q.3**\n",
    "\n",
    "Écrire la fonction ```signe``` qui prend un nombre en paramètre et qui affiche ```positif``` si le nombre est positif ou nul et ```négatif``` s'il est négatif"
   ]
  },
  {
   "cell_type": "code",
   "execution_count": null,
   "metadata": {},
   "outputs": [],
   "source": [
    "def signe(nombre):\n",
    "    '''affiche positif si nombre est positif ou nul et negatif sinon\n",
    "    :param:nombre(int)\n",
    "    '''\n",
    "    pass\n",
    "# Tester votre fonction ici !"
   ]
  },
  {
   "cell_type": "markdown",
   "metadata": {},
   "source": [
    "**Q.4**  \n",
    "Réécrire la fonction ```signe```. Cette fois-ci, votre fonction affiche ```positif``` si le nombre et positif, ```nul```si le nombre vaut 0 et ```negatif``` si le nombre est négatif.\n"
   ]
  },
  {
   "cell_type": "code",
   "execution_count": null,
   "metadata": {},
   "outputs": [],
   "source": [
    "def signe(nombre):\n",
    "    '''affiche positif si nombre est positif ou nul et negatif sinon\n",
    "    :param:nombre(int)\n",
    "    '''\n",
    "    pass\n",
    "# Tester votre fonction ici !"
   ]
  },
  {
   "cell_type": "markdown",
   "metadata": {},
   "source": [
    "Le code précédent nécessitent d'écrire des instructions conditionnelles à la chaîne comme dans l'exemple ci-dessous."
   ]
  },
  {
   "cell_type": "code",
   "execution_count": null,
   "metadata": {},
   "outputs": [],
   "source": [
    "age = int(input(\"Quel est votre age ?\"))\n",
    "\n",
    "if age >= 18 and age < 70 :\n",
    "    print(\"Vous êtes adulte\")\n",
    "else:\n",
    "    if age >= 70:\n",
    "        print(\"Vous êtes sénior\")\n",
    "    else:\n",
    "        print(\"Vous êtes mineur\")"
   ]
  },
  {
   "cell_type": "markdown",
   "metadata": {},
   "source": [
    "Pour simplifier l'écriture du code, on peut utiliser l'instruction ```elif```, contraction d'un else suivi d'un if.\n",
    "\n",
    "**Exemple :**"
   ]
  },
  {
   "cell_type": "code",
   "execution_count": null,
   "metadata": {},
   "outputs": [],
   "source": [
    "age = int(input(\"Quel est votre âge ?\"))\n",
    "\n",
    "if age >= 18 and age < 70:\n",
    "    print(\"Vous êtes adulte\")\n",
    "elif age >= 70:\n",
    "    print(\"Vous êtes sénior\")\n",
    "else:\n",
    "    print(\"Vous êtes mineur\")"
   ]
  },
  {
   "cell_type": "markdown",
   "metadata": {},
   "source": [
    "**Q.5**   \n",
    "Réécrire une dernière fois la fonctions ```signe``` en utilisant un ```elif```."
   ]
  },
  {
   "cell_type": "code",
   "execution_count": null,
   "metadata": {},
   "outputs": [],
   "source": [
    "def signe(nombre):\n",
    "    '''affiche positif si nombre est positif ou nul et negatif sinon\n",
    "    :param:nombre(int)\n",
    "    '''\n",
    "    pass\n",
    "# Tester votre fonction ici !"
   ]
  },
  {
   "cell_type": "markdown",
   "metadata": {},
   "source": [
    "**Q.6**  \n",
    "Recopier la fonction ```imc(poids, taille)``` faite lors du TP précédent."
   ]
  },
  {
   "cell_type": "code",
   "execution_count": null,
   "metadata": {},
   "outputs": [],
   "source": [
    "# Recopier votre fonction ici !"
   ]
  },
  {
   "cell_type": "markdown",
   "metadata": {},
   "source": [
    "**Q.7**  \n",
    "Écrire une fonction ```corpulence(poids, taille)``` qui prend en paramètre la taille et le poids d'un individu et qui renvoie ```insuffisance pondérale```, ```corpulence normale```, ```surpoids```, ```obésité``` sous la forme d'une chaîne de caractères en fonction de l'imc de l'individu.\n",
    "\n",
    "**RAPPEL :**\n",
    "|Corpulence|imc minimal|imc maximal|\n",
    "|-|-|-|\n",
    "|insuffisance pondérale||18.5|\n",
    "|corpulence normale|18.5|25|\n",
    "|surpoids|25|30|\n",
    "|obésité|30||\n"
   ]
  },
  {
   "cell_type": "code",
   "execution_count": null,
   "metadata": {},
   "outputs": [],
   "source": [
    "# Écrire votre fonction ici !"
   ]
  },
  {
   "cell_type": "markdown",
   "metadata": {},
   "source": [
    "**Q.8**  \n",
    "Écrire une fonction ```maximal``` qui prend trois nombres en paramètres et qui renvoie le maximum de ces trois nombres. "
   ]
  },
  {
   "cell_type": "code",
   "execution_count": null,
   "metadata": {},
   "outputs": [],
   "source": [
    "def maximal(n1, n2, n3):\n",
    "    pass\n",
    "\n",
    "assert maximal(1,2,3) == 3\n",
    "assert maximal(-5,2,0) == 2\n",
    "assert maximal(30,20,15) == 30"
   ]
  },
  {
   "cell_type": "markdown",
   "metadata": {},
   "source": [
    "**Q.9**  \n",
    "Écrire une fonction ```pair``` qui prend un nombre en paramètre et qui renvoie ```True``` si le nombre et pair et ```False``` s'il est impair.\n",
    "\n",
    ">Astuce : Un nombre et pai si le reste de sa division par deux vaut 0."
   ]
  },
  {
   "cell_type": "code",
   "execution_count": null,
   "metadata": {},
   "outputs": [],
   "source": [
    "# Écrire votre fonction ici"
   ]
  },
  {
   "cell_type": "markdown",
   "metadata": {},
   "source": [
    "**Q.10**\n",
    "\n",
    "Écrire une fonction bissextile qui prend une année en paramètre et qui renvoie ```True``` s'il s'agit d'une année bissextile et ```False``` sinon.\n",
    "\n",
    "> Une année est bissextile si :\n",
    "> - Elle est divisible par 4 mais pas par 100\n",
    "> - Ou si ell est divisible par 400\n",
    "\n",
    "> Un nombre a et divisible par un nombre b si le reste de la division $\\frac{a}{b}$ est égale à 0."
   ]
  }
 ],
 "metadata": {
  "language_info": {
   "name": "python"
  }
 },
 "nbformat": 4,
 "nbformat_minor": 2
}
