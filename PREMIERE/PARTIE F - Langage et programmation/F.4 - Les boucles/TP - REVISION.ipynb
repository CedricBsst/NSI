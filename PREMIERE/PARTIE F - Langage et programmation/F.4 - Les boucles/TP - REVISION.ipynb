{
 "cells": [
  {
   "cell_type": "markdown",
   "metadata": {},
   "source": [
    "# TP - REVISIONS - Les bases de la programmation \n",
    "\n",
    "## Exercice 1 - Tarif d'un parking\n",
    "Une société de parking propose des tarifs en fonction du temps passé dans celui-ci.\n",
    "\n",
    "Pour chaque heure entamée, le parking facture 2€.\n",
    "\n",
    "Si la durée dépasse 5h, le parking propose une réduction de 10% sur la facture.\n",
    "\n",
    "Le tarif maximal est de 40€\n",
    "\n",
    "> Proposer une fonction qui prend une durée en heure en paramètre et qui renvoie le prix du parking."
   ]
  },
  {
   "cell_type": "code",
   "execution_count": null,
   "metadata": {},
   "outputs": [],
   "source": [
    "def prix_parking(duree):\n",
    "    '''Écrire la documentation ici\n",
    "    '''\n",
    "    # Ecrire les assertions sur les préconditions\n",
    "\n",
    "    # Ecrire le code de la fonction\n",
    "\n",
    "# Ecrire des assertions pour tester votre fonction"
   ]
  },
  {
   "cell_type": "markdown",
   "metadata": {},
   "source": [
    "## Exercice 2 - Calcul de puissance.\n",
    "\n",
    "En python, pour faire une puissances, on utilises l'opérateur ```**```.\n",
    "Par exemple : $a^{b}$ s'écrit : ```a**b``` \n",
    "\n",
    "On se propose d'écrire une fonction ```puissance(a,b)``` **sans utiliser** cet opérateur en s'aidant de boucles."
   ]
  },
  {
   "cell_type": "code",
   "execution_count": null,
   "metadata": {},
   "outputs": [],
   "source": [
    "def puissance(a,b):\n",
    "    '''renvoie a^b\n",
    "    '''\n",
    "    pass\n",
    "\n",
    "assert(1,2) == 1\n",
    "assert(4,2) == 16\n",
    "assert(3,3) == 27\n"
   ]
  },
  {
   "cell_type": "markdown",
   "metadata": {},
   "source": [
    "## Exercice 3 - station météo\n",
    "Vous travaillez pour une station météo qui relève chaque jour la température moyenne. Votre mission est de programmer un outil simple qui permet :\n",
    "\n",
    "1. D’entrer la température d’un jour donné.\n",
    "2. De calculer la moyenne des températures sur plusieurs jours.\n",
    "\n",
    "- Écrire une fonction ```saisie_temperature()``` qui demande une température à l'utilisateur et qui renvoie la valeur saisie sous la forme d'un nombre flottant( ```float```).\n"
   ]
  },
  {
   "cell_type": "code",
   "execution_count": 1,
   "metadata": {},
   "outputs": [],
   "source": [
    "def saisie_temperature():\n",
    "    pass"
   ]
  },
  {
   "cell_type": "markdown",
   "metadata": {},
   "source": [
    "- Écrire une fonction ```calcul_moyenne(nb_jours)``` \n",
    "    - Cette fonction demande à l'utilisateur d'entrer une température pour chaque jour pendant ```nb_jours```\n",
    "    - Utiliser une boucle ```for``` pour saisir la température pour chaque jour et ajoutez-là à une variable cumulative ```somme```.\n",
    "    - Une fois toutes les températures saisies, calculez la moyenne en divisant la somme par le nombre de jours.\n",
    "    - Renvoyez la moyenne des températures."
   ]
  },
  {
   "cell_type": "code",
   "execution_count": null,
   "metadata": {},
   "outputs": [],
   "source": [
    "def calcul_moyenne(nb_jours):\n",
    "    somme = ...\n",
    "    for i in range(...):\n",
    "        temp = ...\n",
    "        somme = somme + ...\n",
    "    moyenne = ...\n",
    "    return ..."
   ]
  },
  {
   "cell_type": "markdown",
   "metadata": {},
   "source": [
    "- Écrire une fonction ```station_meteo()``` :\n",
    "    - Cette fonction demande d'abord à l'utilisateur le nombre de jours pour lesquels il souhaite calculer la température moyenne.\n",
    "    - Elle appelle ensuite la fonction ```calcul_moyenne``` pour lancer la saisie des valeurs. \n",
    "    - Enfin elle affiche le résultat obtenue."
   ]
  },
  {
   "cell_type": "code",
   "execution_count": null,
   "metadata": {},
   "outputs": [],
   "source": [
    "def station_meteo():\n",
    "    pass"
   ]
  },
  {
   "cell_type": "markdown",
   "metadata": {},
   "source": [
    "- Proposer une modification de votre code pour afficher la température minimale et la température maximale."
   ]
  }
 ],
 "metadata": {
  "kernelspec": {
   "display_name": "Python 3",
   "language": "python",
   "name": "python3"
  },
  "language_info": {
   "codemirror_mode": {
    "name": "ipython",
    "version": 3
   },
   "file_extension": ".py",
   "mimetype": "text/x-python",
   "name": "python",
   "nbconvert_exporter": "python",
   "pygments_lexer": "ipython3",
   "version": "3.10.5"
  }
 },
 "nbformat": 4,
 "nbformat_minor": 2
}
