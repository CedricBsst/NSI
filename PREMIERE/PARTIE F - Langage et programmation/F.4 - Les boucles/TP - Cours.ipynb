{
 "cells": [
  {
   "cell_type": "markdown",
   "metadata": {},
   "source": [
    "# TP - COURS - Les boucles\n",
    "\n",
    "Il est parfois utile de répéter plusieurs fois un même bloc d'instructions. Les boucles permettent de répéter plusieurs fois une même suite d'instruction.\n",
    "\n",
    "Il existe deux types de boucles en python, les boucles bornées et les boucles non bornées.\n",
    "\n",
    "## I .Les boucles bornées\n",
    "\n",
    "Voici un exemple de boucle bornée : "
   ]
  },
  {
   "cell_type": "code",
   "execution_count": null,
   "metadata": {},
   "outputs": [],
   "source": [
    "for i in range(5):\n",
    "    print(\"Salut le monde\")"
   ]
  },
  {
   "cell_type": "markdown",
   "metadata": {},
   "source": [
    "**QUESTION 1**\n",
    "\n",
    "Exécuter le code précédent et determiner comment fonctionne une boucle non bornée.\n",
    "\n",
    "- Quel mot permet de définir une boucle bornée\n",
    "- Combien de fois l'instruction ```print(\"salut le monde)``` est exécuté ?\n",
    "- Que permet de définir l'instruction ```range(5)``` ?"
   ]
  },
  {
   "cell_type": "code",
   "execution_count": null,
   "metadata": {},
   "outputs": [],
   "source": [
    "for i in range(5):\n",
    "    print(i)"
   ]
  },
  {
   "cell_type": "markdown",
   "metadata": {},
   "source": [
    "\n",
    "```i``` est une variable, cette variable va changer de valeur au fur et à mesure de l'exécution de la boucle.\n",
    "\n",
    "**QUESTION 2**\n",
    "\n",
    "- Quelle est la valeur de la variable ```i``` au premier tour de la boucle ?\n",
    "- Quelle est la valeur de la variable ```i``` au second tour de la boucle ?\n",
    "- Quelle est la valeur de la variable ```i``` au dernier tour de la boucle ?\n",
    "\n",
    "**QUESTION 3**\n",
    "\n",
    "On considère la boucle suivante : ```for j in range(n):```\n",
    "- Quelle est la valeur de la variable ```j``` au premier tour de la boucle ?\n",
    "- Quelle est la valeur de la variable ```j``` au dernier tour de la boucle ?\n",
    "\n",
    "**QUESTION 4**\n",
    "\n",
    "En vous aidant des exemples précédents, compléter la fonction ```compteur``` qui prend un entier ```n``` en paramètre et qui affichera les valeurs de $0$ à $n-1$.\n",
    "\n"
   ]
  },
  {
   "cell_type": "code",
   "execution_count": null,
   "metadata": {},
   "outputs": [],
   "source": [
    "def compteur(n):\n",
    "    for i in range(...)\n",
    "        print(...)"
   ]
  },
  {
   "cell_type": "markdown",
   "metadata": {},
   "source": [
    "**QUESTION 5**\n",
    "\n",
    "Créer une fonction timer qui prend en paramètre un entier n et qui affiche dans la console les valeurs de n à 1. Puis le mot STOP.\n",
    "\n",
    "```python\n",
    ">>> timer(5)\n",
    "5\n",
    "4\n",
    "3\n",
    "2\n",
    "1\n",
    "STOP\n",
    "```"
   ]
  },
  {
   "cell_type": "code",
   "execution_count": null,
   "metadata": {},
   "outputs": [],
   "source": [
    "# Ecrire votre fonction ici !"
   ]
  },
  {
   "cell_type": "markdown",
   "metadata": {},
   "source": [
    "**QUESTION 5**\n",
    "\n",
    "Compléter la fonction ```somme(n)``` qui prend un entier ```n``` en paramètre et qui renvoie la somme : $1 + 2 + ... + n$"
   ]
  },
  {
   "cell_type": "code",
   "execution_count": null,
   "metadata": {},
   "outputs": [],
   "source": [
    "def somme(n):\n",
    "    resultat = 0\n",
    "    for i in range(...)\n",
    "        resultat = ...\n",
    "    return ..."
   ]
  },
  {
   "cell_type": "markdown",
   "metadata": {},
   "source": [
    "**QUESTION 6**\n",
    "\n",
    "Compléter la fonction moyenne(n) qui prend un entier n en paramètre, qui demande n notes à l'utilisateur et qui renvoie la moyenne des notes saisies."
   ]
  },
  {
   "cell_type": "code",
   "execution_count": null,
   "metadata": {},
   "outputs": [],
   "source": [
    "def moyenne(n):\n",
    "    somme_note = ...\n",
    "    for ... :\n",
    "        note = ...(input(\"Ecrire une note\"))\n",
    "        ...\n",
    "    return somme_note / ...\n",
    "    "
   ]
  },
  {
   "cell_type": "markdown",
   "metadata": {},
   "source": [
    "Il est possible de modifier la valeur de départ prise par la variable de boucle. Pour cela, on envoie deux paramètres à la fonction range()\n",
    "Le premier paramètre correspond à la première valeur de la variable et le second correspond à la valeur qui suit l'arrêt de la boucle.\n",
    "Exemple :"
   ]
  },
  {
   "cell_type": "code",
   "execution_count": null,
   "metadata": {},
   "outputs": [],
   "source": [
    "for i in range(5,10):\n",
    "    print(i)"
   ]
  },
  {
   "cell_type": "markdown",
   "metadata": {},
   "source": [
    "Il est également possible de modifier le pas de la valeur prise par la variable de boucle. Pour cela, on ajoute un troisième paramètre correspondant au pas.\n",
    "\n",
    "Par exemple, si la pas est égal à 3, la valeur de la variable augmentera de 3 à chaque tour de la boucle.\n",
    "\n",
    "Exemple :"
   ]
  },
  {
   "cell_type": "code",
   "execution_count": null,
   "metadata": {},
   "outputs": [],
   "source": [
    "for i in range(8,65,8):\n",
    "    print(i)"
   ]
  },
  {
   "cell_type": "markdown",
   "metadata": {},
   "source": [
    "**On utilise une boucle bornée lorsque l'on connaît à l'avance le nombre de tours que la boucle doit effectuer.**"
   ]
  },
  {
   "cell_type": "markdown",
   "metadata": {},
   "source": [
    "## Les boucles non bornées\n",
    "Voici un exemple de boucle non bornée :"
   ]
  },
  {
   "cell_type": "code",
   "execution_count": null,
   "metadata": {},
   "outputs": [],
   "source": [
    "a = 2\n",
    "while a < 100:\n",
    "    print(a)\n",
    "    a = a * a\n",
    "print(a)"
   ]
  },
  {
   "cell_type": "markdown",
   "metadata": {},
   "source": [
    "**QUESTION 7**\n",
    "\n",
    "A quel moment semble s’arrêter la boucle ? Quelle est la valeur de la variable a après l'exécution de la boucle ?\n",
    "\n",
    "**QUESTION 8**\n",
    "\n",
    "Écrire une fonction `bonjour()`qui ne prend aucun paramètre et qui demande une valeur à l'utilisateur jusqu'à ce que celui-ci réponde \"bonjour\""
   ]
  },
  {
   "cell_type": "code",
   "execution_count": null,
   "metadata": {},
   "outputs": [],
   "source": [
    "#Écrire votre fonction ici !"
   ]
  },
  {
   "cell_type": "markdown",
   "metadata": {},
   "source": [
    "## III.Ce qu'il faut retenir :\n",
    "### Boucle bornées\n",
    "- On utilise une boucle bornée lorsque l'on connaît le nombre de tour que la boucle va effectuer.\n",
    "- On utilise le mot clé `for` pour déclarer une boucle bornée.\n",
    "- La variable de boucle va prendre une à une des valeurs différentes en fonction des paramètres de `range`.\n",
    "- `range` peut prendre une deux ou trois variables : \n",
    "\n",
    "|instruction   |valeur de départ|valeur de fin|pas|\n",
    "|--------------|----------------|-------------|---|\n",
    "|`range(n)`    |0               |n-1          |1  |\n",
    "|`range(m,n)`  |m               |n-1          |1  |\n",
    "|`range(m,n,p)`|m               |n-1          |p  |\n",
    "- Il faut indenter les instructions appartenant à la boucle bornée.\n",
    "Exemple : \n",
    "```python\n",
    "for variableDeBoucle in range(valeurMax):\n",
    "    #Instruction exécutée valeurMax fois\n",
    "```\n",
    "\n",
    "### Boucle non bornée\n",
    "- On utilise une boucle non bornée lorsque l'on ne connaît pas le nombre de tour que la bouc va effectuer.\n",
    "- On utilise la mot clé `while`suivi d'une condition pour déclarer une boucle non bornée.\n",
    "- Tant que la condition est vérifiée, la boucle continue de s'exécuter\n",
    "\n",
    "Exemple : \n",
    "```python\n",
    "while condition:\n",
    "    #Instruction exécutée tant que condition vaut True\n",
    "```"
   ]
  }
 ],
 "metadata": {
  "language_info": {
   "name": "python"
  }
 },
 "nbformat": 4,
 "nbformat_minor": 2
}
