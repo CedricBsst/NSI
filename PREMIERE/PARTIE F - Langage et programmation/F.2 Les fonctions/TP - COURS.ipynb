{
 "cells": [
  {
   "cell_type": "markdown",
   "metadata": {},
   "source": [
    "# TP Cours - Les fonctions"
   ]
  },
  {
   "cell_type": "markdown",
   "metadata": {},
   "source": [
    "## I. Qu'est-ce qu'une fonction ?\n",
    "Lorsque l'on écrit un programme, il est nécessaire de répéter plusieurs fois une même suite d'instructions avec des paramètres différents.\n",
    "Afin d'éviter d'écrire de nombreuses fois cette même suite d'instructions, il est possible de définir une **fonction**.\n",
    "\n",
    "Une fonction possède un **nom** afin de pouvoir être appelée et il est possible de lui fournir des **arguments (ou paramètres)**. Les arguments sont des valeurs associés à un nom qui peuvent ensuite être utilisé comme des variables.\n",
    "\n",
    "Une fonction peut ou non renvoyer une valeur. La valeur renvoyée pourra alors être stockée pour être réutilisé plus tard.\n",
    "\n",
    "### A. Syntaxe, définir une fonction\n",
    "![fonction.png](./media/fonction.png)\n",
    "\n",
    "> - Les règles de nommage des fonctions sont identique aux règles de nommage des variables.\n",
    "> - Pour que Python puisse repérer les instructions faisant partie de la fonction. Ces instructions doivent être décalé vers la droite. On dit qu'elles sont indentées.  \n",
    "> **L'indentation est très importante en Python.**\n",
    "\n",
    "**Q.1**  \n",
    "En vous aidant du code de la fonction donnée en exemple, écrire une fonction ```produit``` qui prend deux valeurs en paramètres et qui renvoie le produit (la multiplication) de ces deux valeurs."
   ]
  },
  {
   "cell_type": "code",
   "execution_count": null,
   "metadata": {},
   "outputs": [],
   "source": [
    "# Ecrire votre fonction ici !"
   ]
  },
  {
   "cell_type": "markdown",
   "metadata": {},
   "source": [
    "### B. Utiliser une fonction\n",
    "Pour appeler (utiliser) une fonction, il faut écrire son nom suivie des paramètres entre parenthèses.\n",
    "> Même si la fonction ne prend pas de paramètre, il faut mettre des parenthèse.\n",
    "Il est possible d'utiliser la valeur renvoyée par la fonction directement ou en la stockant dans une variable.\n",
    "\n",
    "> Lors du TP précédent, vous avez déjà utilisé des fonctions :\n",
    "> - ```print``` \n",
    "> - ```input```\n",
    "\n",
    "**Exemple :**"
   ]
  },
  {
   "cell_type": "code",
   "execution_count": null,
   "metadata": {},
   "outputs": [],
   "source": [
    "r = produit(5,6)\n",
    "print(r)"
   ]
  },
  {
   "cell_type": "markdown",
   "metadata": {},
   "source": [
    "**Q.2**  \n",
    "Écrire une fonction ```bonjour``` qui ne prend aucun paramètre et qui affiche dans la console \"Hello world !\""
   ]
  },
  {
   "cell_type": "code",
   "execution_count": null,
   "metadata": {},
   "outputs": [],
   "source": [
    "# Ecrire votre code ici"
   ]
  },
  {
   "cell_type": "markdown",
   "metadata": {},
   "source": [
    "**Q.3**  \n",
    "Utiliser votre fonction pour afficher \"Hello World !\" dans la console."
   ]
  },
  {
   "cell_type": "code",
   "execution_count": null,
   "metadata": {},
   "outputs": [],
   "source": [
    "# Ecrire votre code ici"
   ]
  },
  {
   "cell_type": "markdown",
   "metadata": {},
   "source": [
    "**Q.3**  \n",
    "Écrire la fonction ```imc``` qui prend deux paramètres : \n",
    "- poids (en kg)\n",
    "- taille (en m)\n",
    "La fonction doit renvoyer l'imc (indice de masse corporelle) en fonction des deux paramètres.\n",
    "> $IMC = \\frac{poids(kg)}{taille(m)^2}$"
   ]
  },
  {
   "cell_type": "code",
   "execution_count": null,
   "metadata": {},
   "outputs": [],
   "source": [
    "# Ecrire votre fonction ici !"
   ]
  },
  {
   "cell_type": "markdown",
   "metadata": {},
   "source": [
    "## II. Documenter son programme\n",
    "### A. Documenter son code\n",
    "Lorsque quelqu’un doit relire ou modifier votre code, ou lorsque l’on souhaite modifier son code quelques mois plus tard, il est parfois très difficile de comprendre comment celui-ci a été construit. En effet, il n’est pas toujours simple de déterminer comment fonctionne le programme, notamment lorsqu’il s’agit d’un code long ou complexe. C’est pourquoi il est important de commenter ces lignes de codes.\n",
    "\n",
    "Pour indiquer à Python que l’on souhaite commenter son programme, il ajoute le caractère ```#``` devant le commentaire.\n"
   ]
  },
  {
   "cell_type": "code",
   "execution_count": null,
   "metadata": {},
   "outputs": [],
   "source": [
    "print(\"Cette ligne est exécutée\")\n",
    "# Cette ligne n'est pas exécutée, il s'agit d'un commentaire"
   ]
  },
  {
   "cell_type": "markdown",
   "metadata": {},
   "source": [
    "Il faut veiller à mettre suffisamment de commentaire pour que le code soit simple à comprendre. En revanche, mettre trop de commentaires inutiles rendrait le code illisible.\n",
    "\n",
    "### B. Documenter ses fonctions\n",
    "Les fonctions que vous écrivez sont parfois destiné à être utilisé par d’autre programmeur, c’est pourquoi vous devez lui fournir un « mode d’emploi » de votre fonction, en programmation, ce mode d'emploi est appelé **documentation (ou docstring)**. \n",
    "\n",
    "Celle-ci doit contenir :\n",
    "- Un petit texte expliquant ce que fait la fonction\n",
    "- Le type de chaque paramètre et leur rôle\n",
    "- Le type de la valeur renvoyée et à quoi elle correspond\n",
    "- Les conditions d'utilisation s'il y en a.\n",
    "La documentation doit être écrite entre la définition de la fonction et le code de la fonction.\n",
    "\n",
    "**Exemple : Documentation de la fonction ```somme```**.\n"
   ]
  },
  {
   "cell_type": "code",
   "execution_count": null,
   "metadata": {},
   "outputs": [],
   "source": [
    "def somme(a,b):\n",
    "    '''Somme de a et b\n",
    "    :param:a:(int) premier terme de l'addition\n",
    "    :param:b:(int) seconde terme de l'addition\n",
    "    :return:(int) a + b\n",
    "    :CU: /\n",
    "    '''\n",
    "    resultat = a + b\n",
    "    return resultat"
   ]
  },
  {
   "cell_type": "markdown",
   "metadata": {},
   "source": [
    ">**Remarques :**\n",
    ">\n",
    "> - Certain environnement de développement affiche la documentation des fonctions lorsque l'on commence à écrire leur nom dans le code pour aider l'utilisateur.\n",
    "> - Il est possible de spécifier directement les types des paramètres et de la valeur renvoyée directement dans la définition de la fonction.  \n",
    "> **Exemple :**\n",
    "> ```python\n",
    "> def somme(a:int, b:int) -> int:\n",
    "> ```\n",
    "\n",
    "**Q.4 :**  \n",
    "Recopier la fonction ```imc``` de la question précédente et ajouter la documentation"
   ]
  },
  {
   "cell_type": "code",
   "execution_count": null,
   "metadata": {},
   "outputs": [],
   "source": [
    "# Ecrire votre code ici !"
   ]
  },
  {
   "cell_type": "markdown",
   "metadata": {},
   "source": [
    "**Q.5 :**  \n",
    "Écrire la fonction ```division``` qui prend deux paramètres ```a``` et ```b``` et qui renvoie la division de ```a``` par ```b```. Vous devrez écrire la documentation de votre fonction.\n",
    "> ⚠ Il y a une condition d'utilisation."
   ]
  },
  {
   "cell_type": "code",
   "execution_count": null,
   "metadata": {},
   "outputs": [],
   "source": [
    "# Ecrire votre code ici !"
   ]
  },
  {
   "cell_type": "markdown",
   "metadata": {},
   "source": [
    "## III. Conditions d'utilisations : décrire les préconditions\n",
    "Il est possible que les utilisateurs ne respectent pas les conditions d'utilisation que vous avez définit dans votre documentation. Cela pourrait déclencher une erreur que l'utilisateur ne comprendrez pas puisqu'il ne connaît pas votre code.\n",
    "\n",
    "Pour éviter ce type de problème, vous devez contrôler les paramètres entrée pat l'utilisateur, à la fois le type des valeurs ainsi que les conditions d'utilisation.\n",
    "\n",
    "Pour réaliser ce contrôle, on utilise des **assertions**\n",
    "\n",
    "Une assertion est une instruction qui va vérifier une condition et qui déclenche une erreur lorsque la condition n'est pas vérifiée.\n",
    "\n",
    "**Exemple :**"
   ]
  },
  {
   "cell_type": "code",
   "execution_count": 1,
   "metadata": {},
   "outputs": [
    {
     "name": "stdout",
     "output_type": "stream",
     "text": [
      "8\n"
     ]
    },
    {
     "ename": "AssertionError",
     "evalue": "a doit être entier",
     "output_type": "error",
     "traceback": [
      "\u001b[1;31m---------------------------------------------------------------------------\u001b[0m",
      "\u001b[1;31mAssertionError\u001b[0m                            Traceback (most recent call last)",
      "Cell \u001b[1;32mIn [1], line 16\u001b[0m\n\u001b[0;32m     13\u001b[0m     \u001b[38;5;28;01mreturn\u001b[39;00m resultat\n\u001b[0;32m     15\u001b[0m \u001b[38;5;28mprint\u001b[39m(somme(\u001b[38;5;241m5\u001b[39m,\u001b[38;5;241m3\u001b[39m)) \u001b[38;5;66;03m# 5 et 3 sont des entiers, la condition de l'assertion est vérifiée. Le programme continue\u001b[39;00m\n\u001b[1;32m---> 16\u001b[0m \u001b[38;5;28mprint\u001b[39m(somme(\u001b[38;5;241m5.5\u001b[39m,\u001b[38;5;241m3\u001b[39m))\n",
      "Cell \u001b[1;32mIn [1], line 9\u001b[0m, in \u001b[0;36msomme\u001b[1;34m(a, b)\u001b[0m\n\u001b[0;32m      1\u001b[0m \u001b[38;5;28;01mdef\u001b[39;00m \u001b[38;5;21msomme\u001b[39m(a,b):\n\u001b[0;32m      2\u001b[0m     \u001b[38;5;124;03m'''Somme de a et b\u001b[39;00m\n\u001b[0;32m      3\u001b[0m \u001b[38;5;124;03m    :param:a:(int) premier terme de l'addition\u001b[39;00m\n\u001b[0;32m      4\u001b[0m \u001b[38;5;124;03m    :param:b:(int) seconde terme de l'addition\u001b[39;00m\n\u001b[0;32m      5\u001b[0m \u001b[38;5;124;03m    :return:(int) a + b\u001b[39;00m\n\u001b[0;32m      6\u001b[0m \u001b[38;5;124;03m    :CU: /\u001b[39;00m\n\u001b[0;32m      7\u001b[0m \u001b[38;5;124;03m    '''\u001b[39;00m\n\u001b[1;32m----> 9\u001b[0m     \u001b[38;5;28;01massert\u001b[39;00m \u001b[38;5;28mtype\u001b[39m(a) \u001b[38;5;241m==\u001b[39m \u001b[38;5;28mint\u001b[39m, \u001b[38;5;124m\"\u001b[39m\u001b[38;5;124ma doit être entier\u001b[39m\u001b[38;5;124m\"\u001b[39m\n\u001b[0;32m     10\u001b[0m     \u001b[38;5;28;01massert\u001b[39;00m \u001b[38;5;28mtype\u001b[39m(b) \u001b[38;5;241m==\u001b[39m \u001b[38;5;28mint\u001b[39m, \u001b[38;5;124m\"\u001b[39m\u001b[38;5;124mb doit être entier\u001b[39m\u001b[38;5;124m\"\u001b[39m\n\u001b[0;32m     12\u001b[0m     resultat \u001b[38;5;241m=\u001b[39m a \u001b[38;5;241m+\u001b[39m b\n",
      "\u001b[1;31mAssertionError\u001b[0m: a doit être entier"
     ]
    }
   ],
   "source": [
    "def somme(a,b):\n",
    "    '''Somme de a et b\n",
    "    :param:a:(int) premier terme de l'addition\n",
    "    :param:b:(int) seconde terme de l'addition\n",
    "    :return:(int) a + b\n",
    "    :CU: /\n",
    "    '''\n",
    "\n",
    "    assert type(a) == int, \"a doit être entier\"\n",
    "    assert type(b) == int, \"b doit être entier\"\n",
    "\n",
    "    resultat = a + b\n",
    "    return resultat\n",
    "\n",
    "print(somme(5,3)) # 5 et 3 sont des entiers, la condition de l'assertion est vérifiée. Le programme continue\n",
    "print(somme(5.5,3)) # 5.5 n'est pas entier, la condition de l'assertion n'est pas vérifiée. Le programme déclenche une erreur."
   ]
  },
  {
   "cell_type": "markdown",
   "metadata": {},
   "source": [
    "**Q.6 :**  \n",
    "Recopier la fonction ```division``` de la question précédente. Ajouter des assertions pour vérifier les préconditions. (Types et valeurs des paramètres)."
   ]
  },
  {
   "cell_type": "code",
   "execution_count": null,
   "metadata": {},
   "outputs": [],
   "source": [
    "# Ecrire votre code ici !"
   ]
  },
  {
   "cell_type": "markdown",
   "metadata": {},
   "source": [
    "**Q.7 :**  \n",
    "Recopier la fonction ```imc``` de la question 4. Ajouter des assertions pour vérifier les préconditions. (Types et valeurs des paramètres)."
   ]
  },
  {
   "cell_type": "code",
   "execution_count": null,
   "metadata": {},
   "outputs": [],
   "source": [
    "# Ecrire votre code ici !"
   ]
  },
  {
   "cell_type": "markdown",
   "metadata": {},
   "source": [
    "## IV. Tester sa fonction\n",
    "Pour vérifier que la fonction que l’on a écrit est fonctionnelle, généralement on appel la fonction avec différentes valeurs afin de contrôler que tout se déroule bien. Cependant, il n’est pas toujours simple de penser à tester sa fonction pour tous les cas susceptibles de déclencher une erreur.\n",
    "\n",
    "Avec Python, il est possible de tester automatiquement sa fonction, ainsi on réfléchit une est une seule fois aux différents tests à effectuer. Pour ce faire, il existe plusieurs solutions, la plus simple est d’utiliser les assertions comme nous le faisons déjà pour les contrôles sur les préconditions.\n",
    "\n",
    "Les tests ainsi écrit sont appelés des **jeux de tests**.\n",
    "\n",
    "**Exemple :**"
   ]
  },
  {
   "cell_type": "code",
   "execution_count": 3,
   "metadata": {},
   "outputs": [],
   "source": [
    "assert somme(5,2) == 7\n",
    "assert somme(-5,10) == 5\n",
    "assert somme(4,4) == 8\n",
    "\n",
    "# La fonction somme étant correctement écrite, chaque assertion est vérifiée avec succès. L’exécution du code continue sans rien afficher."
   ]
  },
  {
   "cell_type": "markdown",
   "metadata": {},
   "source": [
    "**Q.8 :**  \n",
    "On considère une fonction ```entier_suivant``` qui prend un nombre flottant strictement positif en paramètre et qui renvoie l'entier strictement supérieur le plus proche.\n",
    "1. Écrire la définition de la fonction ainsi que sa documentation.\n",
    "2. Écrire les assertions sur les préconditions.\n",
    "3. Écrire un jeu de tests pour votre fonction.\n",
    "4. Écrire le code de la fonction."
   ]
  },
  {
   "cell_type": "code",
   "execution_count": null,
   "metadata": {},
   "outputs": [],
   "source": [
    "# Ecrire votre code ici !"
   ]
  },
  {
   "cell_type": "markdown",
   "metadata": {},
   "source": [
    "> Les quatres étapes réalisés à la question 8 sont les quatres étapes que vous devez suivre lorsque vous écrivez une fonction."
   ]
  },
  {
   "cell_type": "markdown",
   "metadata": {},
   "source": [
    "## V. Bibliothèques\n",
    "Les bibliothèques ou modules python sont des « banques de fonctionnalités » que vous pouvez utiliser dans votre programme.\n",
    "Il existe deux types de bibliothèque, certaines sont directement intégré à Python, celle-ci n’ont pas besoin d’être installées avant d’être utilisé. On dit qu’elles font partie des bibliothèque standards. C’est le cas par exemple des bibliothèque ```random``` ou encore ```turtle```.\n",
    "\n",
    "D’autres bibliothèques doivent être installées avant de pouvoir être utilisé, c’est le cas des bibliothèque ```matplotlib``` ou encore ```pandas```.\n",
    "\n",
    "Afin de pouvoir utiliser les fonctionnalités d’une bibliothèque au sein de son programme Python, dans un premier temps, il faut tout d’abord importer la bibliothèque.\n",
    "\n",
    "Il existe trois méthodes pour importer une bibliothèque : \n",
    "\n",
    "> ```python\n",
    ">from random import randint\n",
    ">```\n",
    ">\n",
    ">Cette méthode permet de charger la fonction ```randint``` de la bibliothèque ```random```. Il est possible de charger plusieurs fonctions en les séparant par des virgules.\n",
    ">\n",
    ">Cette méthode permet de ne charger que les fonctionnalités dont on a besoin, elle est donc plus rapide à l’exécution. Cette méthode est à privilégier lorsque l’on utilise peu de fonction d’une même bibliothèque.\n",
    ">\n",
    ">Appel de la fonction ```randint``` :\n",
    ">\n",
    ">```python\n",
    ">randint(5,8)\n",
    ">```\n",
    "\n",
    ">```python \n",
    ">from random import *\n",
    ">```\n",
    ">Cette méthode permet de charger l’ensemble des fonctionnalités de la bibliothèque ```random```.\n",
    ">\n",
    ">Cette méthode n’est pas conseillée lorsque le projet nécessite un grand nombre de bibliothèques.\n",
    ">\n",
    ">Appel de la fonction ```randint``` :\n",
    ">```python\n",
    ">randint(5,8)\n",
    ">```\n",
    "\n",
    ">```python\n",
    ">import random\n",
    ">```\n",
    ">Cette méthode permet de charger l’ensemble des fonctionnalités de la bibliothèque random.\n",
    ">Cette méthode implique de rappeler le nom de la bibliothèque devant chaque fonction. Cette méthode est à privilégier lorsque le programme nécessite l’utilisation d’un grand nombre de bibliothèques.\n",
    ">Appel de la fonciton randint\n",
    ">```python\n",
    ">random.randint(5,8)\n",
    ">```\n",
    "\n",
    "Une grande partie des bibliothèques Python possède une documentation permettant de comprendre comment utiliser\n",
    "les fonctionnalités de la bibliothèque.\n",
    "\n",
    "Vous pouvez les retrouvez sur la documentation officielle de Python : https://docs.python.org/fr/3/\n",
    "\n",
    "**Q.9 :**  \n",
    "Lire la documentation de la fonction ```randint``` et écrire une fonction ```note_alea``` que ne prend aucun paramètre et qui renvoie une valeur aléatoire entre 0 et 20. \n",
    "> On ne demandera pas d'écrire de jeu de tests concernant cette fonction, en effet tester l'aléatoire impliquerai de faire une étude statistiques des résultats obtenus."
   ]
  },
  {
   "cell_type": "markdown",
   "metadata": {},
   "source": [
    "> Les questions 10 et sont à faire sur EDUPYTHON\n",
    "**Q.10 :**  \n",
    "On considère le programme suivant :\n",
    "```python \n",
    "from turtle import *\n",
    "color('red')\n",
    "forward(50)\n",
    "left(30)\n",
    "forward(100)\n",
    "right(90)\n",
    "color('blue')\n",
    "forward(10)\n",
    "exitonclick()\n",
    "```\n",
    "Tester le programme et déterminer :\n",
    "- Que permet de faire la bibliothèque ```turtle```\n",
    "- Que fait la fonction ```color``` et quels sont ses paramètres.\n",
    "- Que fait la fonction ```left``` et quels sont ses paramètres.\n",
    "- Que fait la fonction ```right``` et quels sont ses paramètres.\n",
    "- Que fait la fonction ```forward``` et quels sont ses paramètres.\n",
    "> Le fonction ```exitonclick``` permet de mettre fin à l’exécution du programme lorsque l'on ferme la fenêtre de la tortue.\n",
    "\n",
    "**Q.11 :**  \n",
    "Écrire une fonction ```carre``` qui prend un entier ```n``` en paramètre et qui réalise une carré de dimension ```n``` à l'aide de la bibliothèque ```turtle```."
   ]
  }
 ],
 "metadata": {
  "kernelspec": {
   "display_name": "Python 3",
   "language": "python",
   "name": "python3"
  },
  "language_info": {
   "codemirror_mode": {
    "name": "ipython",
    "version": 3
   },
   "file_extension": ".py",
   "mimetype": "text/x-python",
   "name": "python",
   "nbconvert_exporter": "python",
   "pygments_lexer": "ipython3",
   "version": "3.10.5"
  }
 },
 "nbformat": 4,
 "nbformat_minor": 2
}
