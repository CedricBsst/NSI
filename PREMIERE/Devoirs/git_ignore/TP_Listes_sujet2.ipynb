{
 "cells": [
  {
   "cell_type": "markdown",
   "metadata": {},
   "source": [
    "Ecrire une fonction permettant de rechercher un élément dans une liste. L'algorithme doit renvoyer l'indice de la première occurrence de l'élément recherché ou -1 si l'élément n'est pas présent dans la liste."
   ]
  },
  {
   "cell_type": "code",
   "execution_count": null,
   "metadata": {},
   "outputs": [],
   "source": [
    "# Ecrire votre code ici !"
   ]
  },
  {
   "cell_type": "code",
   "execution_count": null,
   "metadata": {},
   "outputs": [],
   "source": [
    "nombres = [10, 20, 30, 40, 50]\n",
    "indice = rechercher_element(nombres, 30)\n",
    "print(f\"L'élément 30 se trouve à l'indice :\", indice)\n",
    "\n",
    "indice = rechercher_element(nombres, 100)\n",
    "print(f\"L'élément 100 se trouve à l'indice :\", indice)"
   ]
  }
 ],
 "metadata": {
  "language_info": {
   "name": "python"
  }
 },
 "nbformat": 4,
 "nbformat_minor": 2
}
