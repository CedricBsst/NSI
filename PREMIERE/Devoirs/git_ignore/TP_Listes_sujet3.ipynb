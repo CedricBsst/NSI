{
 "cells": [
  {
   "cell_type": "markdown",
   "metadata": {},
   "source": [
    "Écris une fonction qui prend une liste de nombres en entrée et calcule la moyenne de ces nombres. Si la liste est vide, la fonction doit renvoyer None"
   ]
  },
  {
   "cell_type": "code",
   "execution_count": null,
   "metadata": {},
   "outputs": [],
   "source": [
    "# Ecrire votre code ici !"
   ]
  },
  {
   "cell_type": "code",
   "execution_count": null,
   "metadata": {},
   "outputs": [],
   "source": [
    "nombres = [5, 15, 10, 20]\n",
    "moyenne = calculer_moyenne(nombres)\n",
    "print(f\"La moyenne des nombres est : {moyenne}\")\n",
    "\n",
    "moyenne_vide = calculer_moyenne([])\n",
    "print(f\"La moyenne d'une liste vide est : {moyenne_vide}\")"
   ]
  }
 ],
 "metadata": {
  "language_info": {
   "name": "python"
  }
 },
 "nbformat": 4,
 "nbformat_minor": 2
}
