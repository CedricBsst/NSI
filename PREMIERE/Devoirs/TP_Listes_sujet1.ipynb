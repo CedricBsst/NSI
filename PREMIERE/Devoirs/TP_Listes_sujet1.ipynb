{
 "cells": [
  {
   "cell_type": "markdown",
   "metadata": {},
   "source": [
    "Écris une fonction qui prend en entrée une liste de nombres et retournele maximum et le cette liste."
   ]
  },
  {
   "cell_type": "code",
   "execution_count": null,
   "metadata": {},
   "outputs": [],
   "source": [
    "# Ecrire votre code ici !"
   ]
  },
  {
   "cell_type": "code",
   "execution_count": null,
   "metadata": {},
   "outputs": [],
   "source": [
    "nombres = [4, 7, 1, 9, 3, 6]\n",
    "maximum = maxi(nombres)\n",
    "print(\"Maximum :\" ,maximum)"
   ]
  }
 ],
 "metadata": {
  "language_info": {
   "name": "python"
  }
 },
 "nbformat": 4,
 "nbformat_minor": 2
}
