{
 "cells": [
  {
   "cell_type": "markdown",
   "metadata": {},
   "source": [
    "# Algorithmes gloutons\n",
    "Un algorithme glouton est un algorithme qui effectue à chaque instant, le meilleur choix possible sur le moment, sans retour arrière ni anticipation des étapes suivantes, dans l’objectif d’atteindre au final un résultat optimal. \n",
    "La solution obtenue par un algorithme glouton est le résultat d’une suite de choix gloutons, sans prises en compte des choix passés, ni anticipation de choix futurs.\n",
    "\n",
    "\n",
    "La répétition de cette stratégie permet de résoudre rapidement est de manière souvent satisfaisante des problèmes d’optimisation sans avoir à tester toutes les possibilités (Algorithme naïf).\n",
    "\n",
    "> Attention : Un algorithme glouton ne fournit pas toujours le meilleur résultat possible.\n",
    "\n",
    "Les algorithmes gloutons se montrent particulièrement efficaces dans les problèmes suivants : \n",
    "-\tRendu de monnaie\n",
    "-\tDéterminer le plus court chemin dans un réseau\n",
    "-\tCompresser des données\n",
    "-\tOrganiser le parcours d’un voyageur dans différentes villes\n",
    "-\tOrganiser des plannings\n",
    "\n",
    "Ci-dessous, vous trouverez des exemples de fonction qui utilisent une méthode gloutonne pour résoudre le problème donnée :\n",
    "\n",
    "## Rendu de monnaie\n",
    "Imaginons que l’on souhaite rendre une certaine somme d’argent à l’aide de pièces et de billets. Notre objectif est de rendre un nombre minimal de pièce et billets. \n",
    "\n",
    "Si on prend l’Euro comme système de monnaie, on peut utiliser un algorithme glouton. A chaque tour, on choisit la pièce (ou le billet) le plus grand possible. On continue jusqu'à ce qu'il ne reste plus rien à rendre.\n"
   ]
  },
  {
   "cell_type": "code",
   "execution_count": null,
   "metadata": {},
   "outputs": [],
   "source": [
    "def rendu(a_rendre, systeme_monaitaire):\n",
    "    i_pieces = len(systeme_monaitaire) - 1\n",
    "    liste_pieces_a_rendre = []\n",
    "    while a_rendre > 0:\n",
    "        if systeme_monaitaire[i_pieces] <= a_rendre:\n",
    "            liste_pieces_a_rendre.append(systeme_monaitaire[i_pieces])\n",
    "            a_rendre = a_rendre - systeme_monaitaire[i_pieces]\n",
    "        else:\n",
    "            i_pieces = i_pieces - 1\n",
    "    return liste_pieces_a_rendre"
   ]
  },
  {
   "cell_type": "markdown",
   "metadata": {},
   "source": []
  }
 ],
 "metadata": {
  "language_info": {
   "name": "python"
  }
 },
 "nbformat": 4,
 "nbformat_minor": 2
}
