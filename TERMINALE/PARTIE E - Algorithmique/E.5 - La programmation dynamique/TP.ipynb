{
 "cells": [
  {
   "cell_type": "markdown",
   "metadata": {},
   "source": [
    "# TP - Programmation dynamique\n",
    "\n",
    "## Exercice 1 - Résolution du problème de découpe de barre avec programmation dynamique\n",
    "### Enoncé du problème :\n",
    "Un artisan possède une barre de longueur `n` et souhaite la découper en morceaux de différentes tailles. Chaque morceau de longueur `i` (où `i` est un entier et `1 <= i <= n`) a un prix `p[i]`. L'objectif est de maximiser le revenu total qu'il peut obtenir en découpant la barre en morceaux de différentes tailles.\n",
    "\n",
    "> **Q.1** \n",
    "> \n",
    "> Si les prix pour les longueurs de morceaux son donnés par le tableau suivant :\n",
    "> ```python\n",
    "> p = [0, 2, 5, 7, 8, 10, 13]\n",
    "> ```\n",
    "> et que la longueur de la barre est `n = 6`  \n",
    "> quel est le revenu maximal que l'artisan peut obtenir en découpant la barre ?\n"
   ]
  },
  {
   "cell_type": "raw",
   "metadata": {
    "vscode": {
     "languageId": "raw"
    }
   },
   "source": [
    "Reponse Q.1 :\n"
   ]
  },
  {
   "cell_type": "markdown",
   "metadata": {},
   "source": [
    "### Solution naïve\n",
    "1. **Objectif :** Implémentez une fonction réccursive pour résoudre le problème ded manière brute.\n",
    "2. **Principe :** La fonction va tester toutes le combinaisons de morceaux possibles, en calculant le revenu de chaque découpe et en renvoyant la valeur maximales\n",
    "\n",
    "> **Q.2**\n",
    ">\n",
    "> Ecrivez une fonction `decoupe_barre_naif(prix, n)` \n",
    "> - La fonction prend en entrée un tableau `prix` des prix par longueur et un entier `n` représentant la longueur de la barre.\n",
    "> - La fonction doit renvoyer le revenu maximal que l'artisan peut obtenir.\n",
    ">\n",
    "> **Conseil :** Vous devez effectuer un découpe de la barre en morceaux de longueur `i` et résoudre récursivement le problème pour la barre restante de longueur `n-i`.\n"
   ]
  },
  {
   "cell_type": "code",
   "execution_count": null,
   "metadata": {},
   "outputs": [],
   "source": [
    "# Fonction decoupe_barre_naif"
   ]
  },
  {
   "cell_type": "markdown",
   "metadata": {},
   "source": [
    "> **Q.3**\n",
    "> \n",
    "> Testez votre fonction pour vérifier le résultat obtenu à la question 1\n",
    ">\n",
    "> On prend les valeurs suivantes :\n",
    "> ```python\n",
    "> p = [0, 1, 2, 4, 5, 7, 8, 12]\n",
    "> n = 50\n",
    "> ```\n",
    "> Quel est le revenu maximal que l'artisan peut obtenir en découpant la barre ?"
   ]
  },
  {
   "cell_type": "code",
   "execution_count": null,
   "metadata": {},
   "outputs": [],
   "source": [
    "# Test de la fonction decoupe_barre_naif\n"
   ]
  },
  {
   "cell_type": "raw",
   "metadata": {
    "vscode": {
     "languageId": "raw"
    }
   },
   "source": [
    "Réponse Q.2 :\n"
   ]
  },
  {
   "cell_type": "markdown",
   "metadata": {},
   "source": [
    "> **Q.4**\n",
    ">\n",
    "> Expliquer pourquoi la solution naïve prend du temps à résoudre le problème."
   ]
  },
  {
   "cell_type": "raw",
   "metadata": {
    "vscode": {
     "languageId": "raw"
    }
   },
   "source": [
    "Réponse Q.4 :\n"
   ]
  },
  {
   "cell_type": "markdown",
   "metadata": {},
   "source": [
    "### Optimisation à l'aide de la programmation dynamique\n",
    "1. **Objectif :** Optimisz l'algorithme en utilisant la **programmation dynamique**\n",
    "2. **Principe :** Utilisez la récursion, mais mémorisez les résultats des sous-problèmes dans un tableau afin de ne pas recalculer les mêmes résultats plusieurs fois.\n",
    "\n",
    "> **Q.5**\n",
    ">\n",
    "> Nommer le processus qui consiste à mémoriser les résultats intermédiaire dans le but d'être réutilisé pour résoudre le même sous-problème plusieurs fois."
   ]
  },
  {
   "cell_type": "raw",
   "metadata": {
    "vscode": {
     "languageId": "raw"
    }
   },
   "source": [
    "Réponse Q.5 :\n"
   ]
  },
  {
   "cell_type": "markdown",
   "metadata": {},
   "source": [
    "> **Q.6**\n",
    ">\n",
    "> Ecrivez une fonction `decoupe_barre_dyn(prix, n)` \n",
    "> - La fonction prend en entrée un tableau `prix` des prix par longueur et un entier `n` représentant la longueur de la barre.\n",
    "> - La fonction doit renvoyer le revenu maximal que l'artisan peut obtenir.\n",
    "> - Utilisez un tableau de taille n+1 pour stocker les résultats des sous-problème\n",
    "> - Si le résultat d'un sous-problème est déjà calculé, renvoyer directement le résultat à partir du tableau.\n",
    ">\n",
    "> **Conseil :** Repprenez la fonction de la question 2 et modifiez la."
   ]
  },
  {
   "cell_type": "code",
   "execution_count": null,
   "metadata": {},
   "outputs": [],
   "source": [
    "# Fonction decoupe_barre_dyn\n",
    "def decoupe_barre_dyn(prix, n, memo=None):\n",
    "    if memo is None:\n",
    "        memo = [-1] * (n + 1)\n",
    "    ...\n"
   ]
  },
  {
   "cell_type": "markdown",
   "metadata": {},
   "source": [
    "> **Q.7**\n",
    ">\n",
    "> Tester votre nouvelle implémentation à l'aide sur les données des questions 1 et 3."
   ]
  },
  {
   "cell_type": "code",
   "execution_count": null,
   "metadata": {},
   "outputs": [],
   "source": [
    "# Test de la fonction decoupe_barre_dyn\n"
   ]
  },
  {
   "cell_type": "markdown",
   "metadata": {},
   "source": [
    "## Exercice 2 - Distance de Levenshtein (Pour aller plus loin)\n",
    "Ce problème est utilisé en traitement du langage naturel et en bio-informatique pour mesurer la différence entre deux chaînes de caractères.\n",
    "\n",
    "### Enonce du problème\n",
    "\n",
    "On veut transformer une chaîne A en une chaîne B en utilisant trois opérations :\n",
    "\n",
    "- Insertion d’un caractère\n",
    "- Suppression d’un caractère\n",
    "- Remplacement d’un caractère\n",
    "\n",
    "Le but est de trouver le nombre minimal d'opérations nécessaires pour convertir A en B.\n",
    "\n",
    "**Exemple :**\n",
    "\n",
    "Entrée :  \n",
    "A = \"chat\"  \n",
    "B = \"chats\"\n",
    "\n",
    "Sortie :  \n",
    "1 (il suffit d’ajouter \"s\")\n",
    "\n",
    "**Autre exemple :**\n",
    "\n",
    "A = \"samedi\"  \n",
    "B = \"dimanche\"\n",
    "\n",
    "Solution optimale :\n",
    "- remplacer \"s\" par \"d\"\n",
    "- remplacer \"a\" par \"i\"\n",
    "- insérer \"n\"\n",
    "- insérer \"c\"\n",
    "- remplacer \"d\" par \"h\"\n",
    "- insérer \"e\"\n",
    "  \n",
    "=> 6 opérations\n",
    "\n",
    "### Applications\n",
    "La distance de levenshtein est très utilisée en informatique, voici quelques exemples d'utilisation :\n",
    "- Correction orthographique : Google, Wikipédia (correction automatique)\n",
    "- Bio-informatique : Alignement de séquences ADN\n",
    "- Reconnaissance vocale : Mesurer la similarité entre des mots prononcés et écrits\n",
    "\n",
    "### Approche naïve\n",
    "#### Principe\n",
    "L'idée est d'explorer toutes les possibilités pour transformer la chaîne A en B en utilisant les trois opérations autorisées et en sélectionnant la solution avec le coût minimal."
   ]
  },
  {
   "cell_type": "code",
   "execution_count": null,
   "metadata": {},
   "outputs": [],
   "source": [
    "# implémentation \n",
    "def distance_recursive(A, B, i, j):\n",
    "    if i == 0:\n",
    "        return j  # Insérer les j caractères restants\n",
    "    if j == 0:\n",
    "        return i  # Supprimer les i caractères restants\n",
    "    \n",
    "    if A[i-1] == B[j-1]:  # Si les derniers caractères sont identiques\n",
    "        return distance_recursive(A, B, i-1, j-1)\n",
    "    \n",
    "    return 1 + min(\n",
    "        distance_recursive(A, B, i, j-1),    # Insertion\n",
    "        distance_recursive(A, B, i-1, j),    # Suppression\n",
    "        distance_recursive(A, B, i-1, j-1)   # Remplacement\n",
    "    )\n",
    "\n",
    "# Test\n",
    "A = \"chat\"\n",
    "B = \"chats\"\n",
    "print(distance_recursive(A, B, len(A), len(B)))  # Résultat attendu : 1"
   ]
  },
  {
   "cell_type": "markdown",
   "metadata": {},
   "source": [
    "#### Cas de base\n",
    "- Si A est vide (i == 0), il faut insérer tous les caractères restants de B → coût = j.\n",
    "- Si B est vide (j == 0), il faut supprimer tous les caractères restants de A → coût = i.\n",
    "\n",
    "#### Cas général \n",
    "- Si les derniers caractères de A et B sont identiques, on passe au sous-problème `distance(A[0:i-1], B[0:j-1])` sans coût supplémentaire.\n",
    "- Sinon, on essaie les trois opérations et on garde la solution minimale :\n",
    "  - Insertion : `distance(A, B, i, j+1) + 1`\n",
    "  - Suppression : `distance(A, B, i-1, j) + 1`\n",
    "  - Remplacement : `distance(A, B, i-1, j-1) + 1`\n",
    "\n",
    "#### Compléxité\n",
    "La complexité de cette approche est exponentielle $O(3^n)$, ce qui devient très inefficace pour de grandes chaînes."
   ]
  },
  {
   "cell_type": "markdown",
   "metadata": {},
   "source": [
    "### Approche optimisée : Programmation Dynamique\n",
    "#### Principe \n",
    "On stocke les résultats intermédiaires dans une table, où :\n",
    "- `dp[i][j]` est le coût minimal pour transformer les i premiers caractères de A en les j premiers de B.\n",
    "\n",
    "> **Q.8**\n",
    ">\n",
    "> Compléter le code de la fonction distance_levenshtein\n",
    "> - La fonction proposée utilise l'approche **dow-up** c'est à dire que l'on compléte le tableau des résultats puis envoie la solution."
   ]
  },
  {
   "cell_type": "code",
   "execution_count": null,
   "metadata": {},
   "outputs": [],
   "source": [
    "# Implémentation en python\n",
    "def distance_levenshtein(A, B):\n",
    "    n, m = len(A), len(B)\n",
    "    dp = [[0] * (m + 1) for _ in range(n + 1)]\n",
    "\n",
    "    # Initialisation des bords\n",
    "    for i in range(n + 1):\n",
    "        dp[i][0] = i\n",
    "    for j in range(m + 1):\n",
    "        dp[0][j] = j\n",
    "\n",
    "    # Remplissage de la table\n",
    "    for i in range(1, n + 1):\n",
    "        for j in range(1, m + 1):\n",
    "            ...\n",
    "\n",
    "    return dp[n][m]\n",
    "\n",
    "# Test\n",
    "A = \"samedi\"\n",
    "B = \"dimanche\"\n",
    "print(distance_levenshtein(A, B))  # Résultat attendu : 6"
   ]
  }
 ],
 "metadata": {
  "kernelspec": {
   "display_name": "Python 3",
   "language": "python",
   "name": "python3"
  },
  "language_info": {
   "codemirror_mode": {
    "name": "ipython",
    "version": 3
   },
   "file_extension": ".py",
   "mimetype": "text/x-python",
   "name": "python",
   "nbconvert_exporter": "python",
   "pygments_lexer": "ipython3",
   "version": "3.13.2"
  }
 },
 "nbformat": 4,
 "nbformat_minor": 2
}
