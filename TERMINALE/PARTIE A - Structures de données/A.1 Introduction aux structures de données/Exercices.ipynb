{
 "cells": [
  {
   "cell_type": "markdown",
   "metadata": {},
   "source": [
    "# Introduction aux structures de données"
   ]
  },
  {
   "cell_type": "markdown",
   "metadata": {},
   "source": [
    "## Exercice 1 :\n",
    "On souhaite conserver tous les jours fériés de l'année 2024 - 2025\n",
    "1. Définir une liste en python pour y stocker toutes les dates sous la formes d'une chaîne de caractères.\n",
    "\n",
    "Les jours féries : \n",
    "- 01/11/2024\n",
    "- 11/11/2024\n",
    "- 25/12/2024\n",
    "- 01/01/2025\n",
    "- 21/04/2025\n",
    "- 01/05/2025\n",
    "- 08/05/2025\n",
    "- 29/05/2025\n",
    "- 06/06/2025\n",
    "- 14/07/2025\n",
    "- 15/08/2025"
   ]
  },
  {
   "cell_type": "code",
   "execution_count": null,
   "metadata": {},
   "outputs": [],
   "source": []
  },
  {
   "cell_type": "markdown",
   "metadata": {},
   "source": [
    "2. Ecrire une fonction qui prend en entrée\n",
    "- La liste ```feries``` des jours fériés\n",
    "- Une date ```d```(sous la forme d'une chaîne de caractères)\n",
    "\n",
    "et qui renvoie\n",
    "- True si ```d``` est dans ```feries```\n",
    "- False sinon\n",
    "\n",
    "**Sans utiliser le mot cles ```in```**\n",
    "\n",
    "**Il s'agit d'un algorithme de recherche dans une liste vu en premiere**"
   ]
  },
  {
   "cell_type": "code",
   "execution_count": 1,
   "metadata": {},
   "outputs": [],
   "source": [
    "def est_feries(feries, d):\n",
    "    '''d est il dans feries ?\n",
    "    param: feries(list) liste de date en str\n",
    "         : d(str) date à rechercher\n",
    "    return: (bool) True si d in feries et False sinon\n",
    "    '''\n",
    "    pass"
   ]
  },
  {
   "cell_type": "markdown",
   "metadata": {},
   "source": [
    "## Exercice 2\n",
    "Une course de vélo vient d'avoir lieu, on conserve le temps en minutes réalisé par chacun des participants dans une liste python :"
   ]
  },
  {
   "cell_type": "code",
   "execution_count": null,
   "metadata": {},
   "outputs": [],
   "source": [
    "temps = [45, 50, 56, 57, 58, 47, 65, 67, 55, 57, 60, 46]"
   ]
  },
  {
   "cell_type": "markdown",
   "metadata": {},
   "source": [
    "1. L'un des participants a été oublié, il a fait la course en 44 minutes. Ajouter son temps dans la liste à l'aide de la méthode ```append```."
   ]
  },
  {
   "cell_type": "code",
   "execution_count": null,
   "metadata": {},
   "outputs": [],
   "source": []
  },
  {
   "cell_type": "markdown",
   "metadata": {},
   "source": [
    "2. Le participant ayant fait 47 minutes a été disqualifer. Supprimer sont temps de la lite à l'aide de la méthode ```pop```."
   ]
  },
  {
   "cell_type": "code",
   "execution_count": null,
   "metadata": {},
   "outputs": [],
   "source": []
  },
  {
   "cell_type": "markdown",
   "metadata": {},
   "source": [
    "3. Il y a eu une erreur de saisi. Modifier le 67 par un 63 dans la liste."
   ]
  },
  {
   "cell_type": "code",
   "execution_count": null,
   "metadata": {},
   "outputs": [],
   "source": []
  },
  {
   "cell_type": "markdown",
   "metadata": {},
   "source": [
    "4. En vous aidant de l'un des algorithmes de tri vu en première. Ecrire une fonction qui permettra de trier la liste des temps."
   ]
  },
  {
   "cell_type": "code",
   "execution_count": null,
   "metadata": {},
   "outputs": [],
   "source": [
    "def tri_liste(l):\n",
    "    '''Tri de la liste l\n",
    "    param  :l(list)\n",
    "    return :NONE\n",
    "    effect :l est triée \n",
    "    '''\n",
    "    pass"
   ]
  },
  {
   "cell_type": "markdown",
   "metadata": {},
   "source": [
    "## Exercice 3\n",
    "On souhaite conserver les mots de passe associés aux différents noms d'utilisateurs dans un dictionnaire Python.\n",
    "\n",
    "Chaque clé correspond au nom d'utilisateur, chaque valeur correspond au mot de passe de l'utilisateur.\n",
    "\n",
    "On utilise le dictionnaire suivant :"
   ]
  },
  {
   "cell_type": "code",
   "execution_count": null,
   "metadata": {},
   "outputs": [],
   "source": [
    "mdp = {\"Pierre\":\"S4lUt\", \"Paul\":\"H3110\", \"Jacques\":\"B0nj0ur\"}"
   ]
  },
  {
   "cell_type": "markdown",
   "metadata": {},
   "source": [
    "1. Ecrire une fonction ```est_utilisateur``` qui prend le dictionnaire en paramètre, un nom d'utilisateur et qui renvoie ```True``` si le nom d'utilisateur est un clé du dictionnaire et ```False``` sinon."
   ]
  },
  {
   "cell_type": "code",
   "execution_count": null,
   "metadata": {},
   "outputs": [],
   "source": [
    "def est_utilisateur(dico_mdp, user):\n",
    "    ''' user existe-t-il ?\n",
    "    param: dico_mdp(dict) dictionnaire des utilisateur et mot de passe\n",
    "         : user(str) utilisateur à rechercher\n",
    "    return:(bool) True si user in dico_mdp False sinon\n",
    "    '''\n",
    "    pass"
   ]
  },
  {
   "cell_type": "markdown",
   "metadata": {},
   "source": [
    "2. Ecrire une fonction qui vérifie si un mot de passe est correct. La fonction prend le dictionnaire, un nom d'utilisateur et un mot de passe en paramètre.\n",
    "Elle renvoie ```True``` si le mot de passe et correct et ```False``` sinon."
   ]
  },
  {
   "cell_type": "code",
   "execution_count": null,
   "metadata": {},
   "outputs": [],
   "source": [
    "def mdp_correct(dico_mdp, user, mdp):\n",
    "    ''' le mot de passe est-il correct ?\n",
    "    param: dico_mdp(dict) dictionnaire des utilisateur et mot de passe\n",
    "         : user(str) utilisateur à rechercher\n",
    "         : mdp(str) mot de passe à vérifier\n",
    "    return:(bool) True si le mot de passe est correct est False sinon\n",
    "    '''\n",
    "    # On vérifie que l'utilisateur existe\n",
    "    if est_utilisateur(dico_mdp, user):\n",
    "        # L'utilisateur n'existe pas\n",
    "    else:\n",
    "        # L'utilisateur existe"
   ]
  },
  {
   "cell_type": "markdown",
   "metadata": {},
   "source": [
    "3. On souhaite pouvoir ajouter un utilisateur dans notre dictionnaire.  \n",
    "Ecrire une fonction qui prend en paramètre le dictionnaire de mot de passe, un nom d’utilisateur et un mot de passe.  \n",
    "La fonction ajoute le couple (nom d’utilisateur, mot de passe) à notre dictionnaire uniquement si le pseudo n'est pas déjà dans le dictionnaire"
   ]
  },
  {
   "cell_type": "code",
   "execution_count": null,
   "metadata": {},
   "outputs": [],
   "source": []
  },
  {
   "cell_type": "markdown",
   "metadata": {},
   "source": [
    "4. On souhaite pouvoir supprimer un utilisateur de notre dictionnaire.   \n",
    "Ecrire une fonction qui prend en paramètre le dictionnaire et un nom d’utilisateur.   \n",
    "La fonction supprime l’utilisateur associés au nom d'utilisateur."
   ]
  },
  {
   "cell_type": "code",
   "execution_count": null,
   "metadata": {},
   "outputs": [],
   "source": []
  },
  {
   "cell_type": "markdown",
   "metadata": {},
   "source": [
    "## Exercice 4\n",
    "On considère les listes ```keys``` et ```values``` suivantes :"
   ]
  },
  {
   "cell_type": "code",
   "execution_count": null,
   "metadata": {},
   "outputs": [],
   "source": [
    "keys = [\"One\", \"Ten\", \"Seven\"]\n",
    "values = [1, 10, 7]"
   ]
  },
  {
   "cell_type": "markdown",
   "metadata": {},
   "source": [
    "En réalisant un parcours sur les listes, construires le dictionnaires suivant :\n",
    "```python\n",
    "{\"One\": 1, \"Ten\": 10, \"Seven\": 7}\n",
    "```"
   ]
  },
  {
   "cell_type": "code",
   "execution_count": null,
   "metadata": {},
   "outputs": [],
   "source": []
  },
  {
   "cell_type": "markdown",
   "metadata": {},
   "source": [
    "## Exercice 5\n",
    "On considère le dictionnaire suivant :"
   ]
  },
  {
   "cell_type": "code",
   "execution_count": null,
   "metadata": {},
   "outputs": [],
   "source": [
    "donnees = {\n",
    "    \"objets\": {\n",
    "        \"eleve\": {\n",
    "            \"nom\": \"Isaac\",\n",
    "            \"specialites\": [\"NSI\", \"Math\"]\n",
    "        }\n",
    "    }\n",
    "}"
   ]
  },
  {
   "cell_type": "markdown",
   "metadata": {},
   "source": [
    "1. Quelle instruction écrire pour obtenir la valeur ```\"Math\"``` ?"
   ]
  },
  {
   "cell_type": "code",
   "execution_count": null,
   "metadata": {},
   "outputs": [],
   "source": []
  },
  {
   "cell_type": "markdown",
   "metadata": {},
   "source": [
    "2. Quelle instruction écrire pour modifier la valeur ```\"Isaac\"``` par ```\"Newton\"``` ?"
   ]
  },
  {
   "cell_type": "code",
   "execution_count": null,
   "metadata": {},
   "outputs": [],
   "source": []
  },
  {
   "cell_type": "markdown",
   "metadata": {},
   "source": [
    "## Exercice 6\n",
    "On considère les deux listes suivantes : "
   ]
  },
  {
   "cell_type": "code",
   "execution_count": null,
   "metadata": {},
   "outputs": [],
   "source": [
    "notes = [10, 15, 18, 13, 12, 9]\n",
    "coefficients = [1, 1, 1, 2, 2, 4]"
   ]
  },
  {
   "cell_type": "markdown",
   "metadata": {},
   "source": [
    "Ecrire une fonction qui prend en paramètre les deux listes et qui renvoie la moyenne coefficientée."
   ]
  },
  {
   "cell_type": "markdown",
   "metadata": {},
   "source": [
    "## Exercice 7\n",
    "On considère un dictionnaire donnant la moyenne de quelques étudiants.\n",
    "\n",
    "```python\n",
    "dico={\"etudiant1\":15,\"etudiant2\":9,\"etudiant3\":12,\"étudiant4\":5}\n",
    "```\n",
    "\n",
    "Partitionner ce dictionnaire en deux sous dictionnaires : un dictionnaire des élèves ayant la moyenne et un dictionnaire des élèves n’ayant pas la moyenne.\n"
   ]
  },
  {
   "cell_type": "code",
   "execution_count": null,
   "metadata": {},
   "outputs": [],
   "source": [
    "dico={\"etudiant1\":15,\"etudiant2\":9,\"etudiant3\":12,\"étudiant4\":5}"
   ]
  }
 ],
 "metadata": {
  "kernelspec": {
   "display_name": "Python 3",
   "language": "python",
   "name": "python3"
  },
  "language_info": {
   "codemirror_mode": {
    "name": "ipython",
    "version": 3
   },
   "file_extension": ".py",
   "mimetype": "text/x-python",
   "name": "python",
   "nbconvert_exporter": "python",
   "pygments_lexer": "ipython3",
   "version": "3.10.5"
  }
 },
 "nbformat": 4,
 "nbformat_minor": 2
}
