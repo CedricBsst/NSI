{
 "cells": [
  {
   "cell_type": "markdown",
   "metadata": {},
   "source": [
    "# TP - Programmation orientée objets\n",
    "\n",
    "## Exercice 1\n",
    "On souhaite créer une classe permettant la gestion de comptes bancaires.\n",
    "\n",
    "1. Créer une classe ```Compte``` qui possédera les attributs suivants : \n",
    "- ```somme``` (La somme d'argent sur le compte en banque)\n",
    "- ```taux``` (Le taux d'intérêt du compte en banque)\n",
    "\n",
    "La somme et le taux de départ seront initialisés par la constructeur de la classe.\n",
    "\n",
    "2. Ajouter une méthode ```affiche``` qui ne prend aucun paramètre (autre que ```self```) et qui affiche la somme restante et le taux d’intérêts sous la forme suivante : \n",
    "```Somme : 54.5€ - Taux 2%```\n",
    "\n",
    "3. Ajouter une méthode ```retrait``` qui prend un montant ```m``` en paramètre et qui retire ```m```€ du compte bancaire.\n",
    "\n",
    "4. Ajouter une méthode ```depot``` qui prend un montant ```m```en paramètre et qui ajoute ```m```€ au compte bancaire.\n",
    "\n",
    "5. Ajouter une méthode ```interets``` qui ne prend aucun paramètre et qui calcule puis ajoute les intérêts du compte bancaire.\n",
    "> $interets = somme \\times (taux/100)$\n",
    "\n",
    "6. Ajouter une méthode ```virement``` qui prend en paramètre\n",
    "- un ```Compte``` ```c``` en paramètre\n",
    "- un montant ```m```\n",
    "\n",
    "et qui transfert ```m```€ du compte vers le compte ```m```"
   ]
  },
  {
   "cell_type": "code",
   "execution_count": null,
   "metadata": {},
   "outputs": [],
   "source": [
    "class Compte:\n",
    "    def __init__(self, somme, taux):\n",
    "        self.taux = taux\n",
    "        self.somme = somme\n",
    "    \n",
    "    def affiche(self):\n",
    "        print (\"somme : \" + str(self.somme) + \"€ |\", \"taux : \" + str(self.taux))\n",
    "    \n",
    "    def retrait(self, m):\n",
    "        self.somme = self.somme - m\n",
    "\n",
    "    def depot(self, d):\n",
    "        self.somme = self.somme + d\n",
    "\n",
    "    def interets(self):\n",
    "        self.somme = self.somme * (self.taux/100) + self.somme\n",
    "\n",
    "    def virement(self,z,q):\n",
    "        self.somme = self.somme - q\n",
    "        z.somme = z + q\n",
    "\n",
    "compteA = Compte(100, 1)\n",
    "compteB = Compte(1000,1)\n",
    "\n",
    "compteB.virement(compteA, 10)\n",
    "\n"
   ]
  },
  {
   "cell_type": "markdown",
   "metadata": {},
   "source": [
    "## Exercice 2\n",
    "On souhaite savoir si un point se situe à l'intérieur ou à l'extérieur d'un cercle.\n",
    "\n",
    "Pour cela, nous aurons besoin de la classe ```Point``` et de la classe ```Cercle```.\n",
    "\n",
    "**Point :**\n",
    "\n",
    "Attributs : \n",
    "- ```x``` (int)\n",
    "- ```y``` (int)\n",
    "\n",
    "Méthodes\n",
    "- ```__init__(x,y)```\n",
    "- ```get_x```\n",
    "- ```get_y```\n",
    "\n",
    "**Cercle :**\n",
    "\n",
    "Attributs :\n",
    "```centre``` (Point)\n",
    "```rayon``` (int)\n",
    "\n",
    "Méthodes \n",
    "- ```__init__```(centre, rayon)\n",
    "- ```get_centre()```\n",
    "- ```get_rayon()```\n",
    "\n",
    "1. Écrire les classes ```Point``` et ```Cercle```."
   ]
  },
  {
   "cell_type": "code",
   "execution_count": null,
   "metadata": {},
   "outputs": [],
   "source": [
    "class Point:\n",
    "    def __init__(self,x,y):\n",
    "        self.x=x\n",
    "        self.y=y\n",
    "    def get_x(self):\n",
    "        return self.x\n",
    "    def get_y(self):\n",
    "        return self.y\n",
    "    def distance(self p2):\n",
    "        return math.sqrt( (p2.get_x()-self.get_x())**2 + (p2.get_y()-self.get_y())**2 )\n",
    "class Cercle:\n",
    "    def __init__(self,rayon,centre):\n",
    "        self.rayon = rayon\n",
    "        self.centre = centre\n",
    "    def get_rayon(self):\n",
    "        return self.rayon\n",
    "    def get_centre(self):\n",
    "        return self.centre\n",
    "\n",
    " "
   ]
  },
  {
   "cell_type": "markdown",
   "metadata": {},
   "source": [
    "Pour déterminer si un point est dans le cercle ou s’il est à l’extérieur du cercle, il faut déterminer si la distance entre le point et le centre du cercle est plus grande ou plus petite que le rayon. On vous donne la méthode distance de la classe Point, qui détermine la distance entre le point et un autre point passé en paramètre. Attention il faut importer la bibliothèque math.\n",
    "\n",
    "```python\n",
    "def distance(self p2):\n",
    "    return math.sqrt( (p2.get_x()-self.get_x())**2 + (p2.get_y()-self.get_y())**2 )\n",
    "```\n",
    "\n",
    "2. Écrire la fonction ```est_dans_cercle``` qui prend un ```Cercle``` et un ```Point``` en paramètres et qui renvoie ```True``` si le point est dans le cercle et ```False``` sinon."
   ]
  },
  {
   "cell_type": "code",
   "execution_count": null,
   "metadata": {},
   "outputs": [],
   "source": [
    "def est_dans_cercle (cercle,point):\n",
    "    d= point.distance (cercle.get_centre())\n",
    "    if d > cercle.get_rayon() : \n",
    "        return False \n",
    "    else : \n",
    "        return True \n",
    "     \n"
   ]
  },
  {
   "cell_type": "markdown",
   "metadata": {},
   "source": [
    "## Exercice 3"
   ]
  },
  {
   "cell_type": "code",
   "execution_count": 2,
   "metadata": {},
   "outputs": [],
   "source": [
    "class Piece:\n",
    "    def __init__(self, nom, surface):\n",
    "        # chaque objet a pour attributs le nom de la pièce(string)\n",
    "        # et la surface de celle ci(float) en m2.\n",
    "        # on doit rentrer le couple nom de la pi`ece et la surface pour chaque pi`ece.\n",
    "        self.nom = nom\n",
    "        self.surface = surface\n",
    "    \n",
    "    def getSurface(self):\n",
    "        # Renvoie la surface d'un objet de cette classe\n",
    "        return self.surface\n",
    "\n",
    "    def getNom(self):\n",
    "        # Renvoie le nom d'un objet de cette classe\n",
    "        return self.nom\n",
    "    \n",
    "    def setSurface(self, s):\n",
    "        # Modifie la surface s (un float) d'une pièce déjà renseignée\n",
    "        self.surface = s\n",
    "    \n",
    "class Appartement:\n",
    "    def __init__(self, nom):\n",
    "        # nom est un string\n",
    "        # L'objet est une liste de pièces (objets issus de la classe Piece)\n",
    "        self.listeDePieces=[]\n",
    "        self.nom = nom\n",
    "    \n",
    "    def getNom(self):\n",
    "        # Renvoie le nom d’un objet de cette classe\n",
    "        return self.nom\n",
    "\n",
    "    def ajouter(self,piece):\n",
    "        # Ajoute une pi`ece (instance(=objet) de la classe Piece)\n",
    "        self.listeDePieces.append(piece)\n",
    "\n",
    "    def nbPieces(self):\n",
    "        # Renvoie le nombre de pièces de l’appartement\n",
    "        return self.listeDePieces\n",
    "\n",
    "    def surfaceTotale(self):\n",
    "        # Renvoie la surface totale de l’appartement (un float)\n",
    "        s = 0\n",
    "        for p in self.getListePieces():\n",
    "            s = s + p.getSurface()\n",
    "        return s\n",
    "\n",
    "    def getListePieces(self):\n",
    "        # sous forme d’une liste de tuples\n",
    "        # Renvoie la liste des pièces avec les surfaces\n",
    "        return self.listeDePieces\n",
    "\n",
    "\n"
   ]
  },
  {
   "cell_type": "markdown",
   "metadata": {},
   "source": [
    "1. Compléter les classes ```Piece``` et ```Appartement```\n",
    "2. Écrire un programme principal utilisant ces deux classes qui va :\n",
    "- Créer une pièce « chambre », de surface 20m²\n",
    "- Créer une pièce « séjour », de surface 15m²\n",
    "- Créer une pièce « sdb », de surface 10m²\n",
    "- Créer une pièce « cuisine », de surface 8m²\n",
    "- Créer un appartement « appart205 » qui contiendra toutes les pièces créées.\n",
    "- Afficher la surface totale de l’appartement créé\n",
    "- Afficher la liste des pièces et surface de l’appartement créé"
   ]
  },
  {
   "cell_type": "code",
   "execution_count": 3,
   "metadata": {},
   "outputs": [
    {
     "name": "stdout",
     "output_type": "stream",
     "text": [
      "53\n",
      "chambre 20\n",
      "séjour 15\n",
      "sdb 10\n",
      "cuisine 8\n"
     ]
    }
   ],
   "source": [
    "# Le code du programme principal\n",
    "chambre = Piece(\"chambre\", 20)\n",
    "sejour = Piece(\"séjour\", 15)\n",
    "sdb = Piece(\"sdb\", 10)\n",
    "cuisine = Piece(\"cuisine\", 8)\n",
    "appart205 = Appartement(\"appart205\")\n",
    "appart205.ajouter(chambre)\n",
    "appart205.ajouter(sejour)\n",
    "appart205.ajouter(sdb)\n",
    "appart205.ajouter(cuisine)\n",
    "print(appart205.surfaceTotale())\n",
    "for p in appart205.getListePieces():\n",
    "    print(p.getNom(), p.getSurface())"
   ]
  }
 ],
 "metadata": {
  "kernelspec": {
   "display_name": "Python 3",
   "language": "python",
   "name": "python3"
  },
  "language_info": {
   "codemirror_mode": {
    "name": "ipython",
    "version": 3
   },
   "file_extension": ".py",
   "mimetype": "text/x-python",
   "name": "python",
   "nbconvert_exporter": "python",
   "pygments_lexer": "ipython3",
   "version": "3.10.5"
  }
 },
 "nbformat": 4,
 "nbformat_minor": 2
}
