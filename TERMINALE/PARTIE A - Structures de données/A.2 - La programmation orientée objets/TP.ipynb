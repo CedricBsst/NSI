{
 "cells": [
  {
   "cell_type": "markdown",
   "metadata": {},
   "source": [
    "# TP - Programmation orientée objets\n",
    "\n",
    "## Exercice 1\n",
    "On souhaite créer une classe permettant la gestion de comptes bancaires.\n",
    "\n",
    "1. Créer une classe ```Compte``` qui possédera les attributs suivants : \n",
    "- ```somme``` (La somme d'argent sur le compte en banque)\n",
    "- ```taux``` (Le taux d'intérêt du compte en banque)\n",
    "\n",
    "La somme et le taux de départ seront initialisés par la constructeur de la classe.\n",
    "\n",
    "2. Ajouter une méthode ```affiche``` qui ne prend aucun paramètre (autre que ```self```) et qui affiche la somme restante et le taux d’intérêts sous la forme suivante : \n",
    "```Somme : 54.5€ - Taux 2%```\n",
    "\n",
    "3. Ajouter une méthode ```retrait``` qui prend un montant ```m``` en paramètre et qui retire ```m```€ du compte bancaire.\n",
    "\n",
    "4. Ajouter une méthode ```depot``` qui prend un montant ```m```en paramètre et qui ajoute ```m```€ au compte bancaire.\n",
    "\n",
    "5. Ajouter une méthode ```interets``` qui ne prend aucun paramètre et qui calcule puis ajoute les intérêts du compte bancaire.\n",
    "> $interets = somme \\times (taux/100)$\n",
    "\n",
    "6. Ajouter une méthode ```virement``` qui prend en paramètre\n",
    "- un ```Compte``` ```c``` en paramètre\n",
    "- un montant ```m```\n",
    "\n",
    "et qui transfert ```m```€ du compte vers le compte ```m```"
   ]
  },
  {
   "cell_type": "code",
   "execution_count": null,
   "metadata": {},
   "outputs": [],
   "source": [
    "# Votre code ici !"
   ]
  },
  {
   "cell_type": "markdown",
   "metadata": {},
   "source": [
    "## Exercice 2\n",
    "On souhaite savoir si un point se situe à l'intérieur ou à l'extérieur d'un cercle.\n",
    "\n",
    "Pour cela, nous aurons besoin de la classe ```Point``` et de la classe ```Cercle```.\n",
    "\n",
    "**Point :**\n",
    "\n",
    "Attributs : \n",
    "- ```x``` (int)\n",
    "- ```y``` (int)\n",
    "\n",
    "Méthodes\n",
    "- ```__init__(x,y)```\n",
    "- ```get_x```\n",
    "- ```get_y```\n",
    "\n",
    "**Cercle :**\n",
    "\n",
    "Attributs :\n",
    "```centre``` (Point)\n",
    "```rayon``` (int)\n",
    "\n",
    "Méthodes \n",
    "- ```__init__```(centre, rayon)\n",
    "- ```get_centre()```\n",
    "- ```get_rayon()```\n",
    "\n",
    "1. Écrire les classes ```Point``` et ```Cercle```."
   ]
  },
  {
   "cell_type": "code",
   "execution_count": null,
   "metadata": {},
   "outputs": [],
   "source": [
    "# Votre code ici"
   ]
  },
  {
   "cell_type": "markdown",
   "metadata": {},
   "source": [
    "Pour déterminer si un point est dans le cercle ou s’il est à l’extérieur du cercle, il faut déterminer si la distance entre le point et le centre du cercle est plus grande ou plus petite que le rayon. On vous donne la méthode distance de la classe Point, qui détermine la distance entre le point et un autre point passé en paramètre. Attention il faut importer la bibliothèque math.\n",
    "\n",
    "```python\n",
    "def distance(self p2):\n",
    "    return math.sqrt( (p2.get_x()-self.get_x())**2 + (p2.get_y()-self.get_y())**2 )\n",
    "```\n",
    "\n",
    "2. Écrire la fonction ```est_dans_cercle``` qui prend un ```Cercle``` et un ```Point``` en paramètres et qui renvoie ```True``` si le point est dans le cercle et ```False``` sinon."
   ]
  },
  {
   "cell_type": "code",
   "execution_count": null,
   "metadata": {},
   "outputs": [],
   "source": [
    "# Votre fonction ici !"
   ]
  },
  {
   "cell_type": "markdown",
   "metadata": {},
   "source": [
    "## Exercice 3"
   ]
  },
  {
   "cell_type": "code",
   "execution_count": null,
   "metadata": {},
   "outputs": [],
   "source": [
    "class Piece:\n",
    "    def __init__(self, nom, surface):\n",
    "        # chaque objet a pour attributs le nom de la pièce(string)\n",
    "        # et la surface de celle ci(float) en m2.\n",
    "        # on doit rentrer le couple nom de la pi`ece et la surface pour chaque pi`ece.\n",
    "        ...\n",
    "    \n",
    "    def getSurface(self):\n",
    "        # Renvoie la surface d'un objet de cette classe\n",
    "        ...\n",
    "\n",
    "    def getNom(self):\n",
    "        # Renvoie le nom d'un objet de cette classe\n",
    "        ...\n",
    "    \n",
    "    def setSurface(self):\n",
    "        # Modifie la surface s (un float) d'une pièce déjà renseignée\n",
    "        ...\n",
    "    \n",
    "class Appartement:\n",
    "    def __init__(self, nom):\n",
    "        # nom est un string\n",
    "        # L'objet est une liste de pièces (objets issus de la classe Piece)\n",
    "        self.listeDePieces=[]\n",
    "        self.nom = nom\n",
    "    \n",
    "    def getNom(self):\n",
    "        # Renvoie le nom d’un objet de cette classe\n",
    "        ...\n",
    "\n",
    "    def ajouter(self,piece):\n",
    "        # Ajoute une pi`ece (instance(=objet) de la classe Piece)\n",
    "        ...\n",
    "\n",
    "    def nbPieces(self):\n",
    "        # Renvoie le nombre de pièces de l’appartement\n",
    "        ...\n",
    "\n",
    "    def surfaceTotale(self):\n",
    "        # Renvoie la surface totale de l’appartement (un float)\n",
    "        ...\n",
    "\n",
    "    def getListePieces(self):\n",
    "        # sous forme d’une liste de tuples\n",
    "        # Renvoie la liste des pièces avec les surfaces\n",
    "        ...\n",
    "\n",
    "\n"
   ]
  },
  {
   "cell_type": "markdown",
   "metadata": {},
   "source": [
    "1. Compléter les classes ```Piece``` et ```Appartement```\n",
    "2. Écrire un programme principal utilisant ces deux classes qui va :\n",
    "- Créer une pièce « chambre », de surface 20m²\n",
    "- Créer une pièce « séjour », de surface 15m²\n",
    "- Créer une pièce « sdb », de surface 10m²\n",
    "- Créer une pièce « cuisine », de surface 8m²\n",
    "- Créer un appartement « appart205 » qui contiendra toutes les pièces créées.\n",
    "- Afficher la surface totale de l’appartement créé\n",
    "- Afficher la liste des pièces et surface de l’appartement créé"
   ]
  },
  {
   "cell_type": "code",
   "execution_count": null,
   "metadata": {},
   "outputs": [],
   "source": [
    "# Le code du programme principal"
   ]
  }
 ],
 "metadata": {
  "kernelspec": {
   "display_name": "Python 3",
   "language": "python",
   "name": "python3"
  },
  "language_info": {
   "codemirror_mode": {
    "name": "ipython",
    "version": 3
   },
   "file_extension": ".py",
   "mimetype": "text/x-python",
   "name": "python",
   "nbconvert_exporter": "python",
   "pygments_lexer": "ipython3",
   "version": "3.10.5"
  }
 },
 "nbformat": 4,
 "nbformat_minor": 2
}
