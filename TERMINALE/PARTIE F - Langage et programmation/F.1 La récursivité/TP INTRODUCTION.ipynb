{
 "cells": [
  {
   "cell_type": "markdown",
   "metadata": {},
   "source": [
    "# INTRODUCTION A LA RECURSIVITE\n",
    "\n",
    "## I. Une population de lapin\n",
    "On cherche à évaluer la taille d'une population de lapin. On chercher à compter le nombre de couples de lapins en fonction du temps qui sécoule.\n",
    "\n",
    "Au temps ```0``` il y a un couple de jeunes lapins\n",
    "Chaque fois qu'une unité de temps s'écoule :\n",
    "- les lapins adultes font un couple de jeunes lapins.\n",
    "- les jeunes lapins deviennent adultes.\n",
    "\n",
    "**Exemple :**\n",
    "- Au temps ```0``` il y a un couple de jeune lapins\n",
    "- Au temps ```1``` il y a un couple de lapins adultes (Les jeunes lapins ont grandis)\n",
    "- Au temps ```2``` il y a un couple de lapins adultes et un couple de jeunes lapins (Les lapins adultes on fait un couple de jeunes lapins)\n",
    "- Au temps ```3``` il y a un deux couples de lapins adultes et un couples de jeunes lapins\n",
    "- Au temps ```4``` il y a un trois couples de lapins adultes et deux couples de jeunes lapins\n",
    "\n",
    "1. Combien y aura-t-il de couples de lapins adultes et de couples de jeunes lapins au temps ```5``` et au temps ```6``` ?"
   ]
  },
  {
   "cell_type": "raw",
   "metadata": {},
   "source": []
  },
  {
   "cell_type": "markdown",
   "metadata": {},
   "source": [
    "On considère les valeurs suivantes :\n",
    "- ```n_jeunes``` correspond aux nombres de couples de jeunes lapins au temps ```n```\n",
    "- ```n_adultes``` correspond aux nombres de couples de lapins adultes au temps ```n```\n",
    "\n",
    "2. A l'aide des valeurs précédentes, comment peut-on obtenir le nombre de couples de jeunes lapins et le nombre de couple de lapins adultes au temps ```n+1``` ?\n"
   ]
  },
  {
   "cell_type": "raw",
   "metadata": {},
   "source": []
  },
  {
   "cell_type": "markdown",
   "metadata": {},
   "source": [
    "3. Compléter la fonction suivante qui prend un nombre ```n``` en paramètre et qui renvoie le nombre de couples de lapins total au temps ```n```"
   ]
  },
  {
   "cell_type": "code",
   "execution_count": null,
   "metadata": {},
   "outputs": [],
   "source": [
    "def nb_couples(n):\n",
    "    n_jeunes = 1\n",
    "    n_adultes = 0\n",
    "    for i in range(...):\n",
    "        nombre_nouveau_ne = ...\n",
    "        n_adultes = ...\n",
    "        n_jeunes = nombre_nouveau_ne\n",
    "    return ... + ..."
   ]
  },
  {
   "cell_type": "markdown",
   "metadata": {},
   "source": [
    "4. En vous aidant de la fonction précédente, compléter le tableau suivant : "
   ]
  },
  {
   "cell_type": "raw",
   "metadata": {
    "vscode": {
     "languageId": "raw"
    }
   },
   "source": [
    "+-----+----------+\n",
    "|Temps|nb couples|\n",
    "+-----+----------+\n",
    "|  1  |     1    |\n",
    "+-----+----------+\n",
    "|  2  |     1    |\n",
    "+-----+----------+\n",
    "|  3  |     2    |\n",
    "+-----+----------+\n",
    "|  4  |          |\n",
    "+-----+----------+\n",
    "|  5  |          |\n",
    "+-----+----------+\n",
    "|  6  |          |\n",
    "+-----+----------+\n",
    "|  7  |          |\n",
    "+-----+----------+\n",
    "|  8  |          |\n",
    "+-----+----------+\n",
    "|  9  |          |\n",
    "+-----+----------+\n",
    "| 10  |          |\n",
    "+-----+----------+"
   ]
  },
  {
   "cell_type": "markdown",
   "metadata": {},
   "source": [
    "5. En vous aidant du tableau précédent, écrire une formule permettant d'obtenir le nombre de couples de lapins au temps ```n``` en fonction des valeurs précédentes."
   ]
  },
  {
   "cell_type": "raw",
   "metadata": {},
   "source": []
  },
  {
   "cell_type": "markdown",
   "metadata": {},
   "source": [
    "6. En vous aidant de la formule précédente, réécrire la fonction nb_couples sans utiliser de boucles.\n",
    "\n",
    "> ASTUCE : Votre fonction peut s'appeler elle-même."
   ]
  },
  {
   "cell_type": "code",
   "execution_count": null,
   "metadata": {},
   "outputs": [],
   "source": []
  },
  {
   "cell_type": "markdown",
   "metadata": {},
   "source": [
    "## II. La fonction factorielle\n",
    "Dans cette seconde partie, nous nous interessons au code de la fonction ```factorielle```. La fonction mathématique ```factorielle``` est définie par  \n",
    "$factorielle(n) = 1 \\times 2 \\times 3 \\times ... \\times n-1 \\times n$\n",
    "\n",
    "> En mathématique, on note $n!$\n",
    "\n",
    "> **Exemple :**\n",
    "> - $factorielle(3) = 1 \\times 2 \\times 3 = 6$\n",
    "\n",
    "On peut remarquer que  \n",
    "$factorielle(n) = factorielle(n-1) \\times n$\n",
    "> **Exemple :**\n",
    "> - $factorielle(3) = factorielle(2) \\times 3 = (factorielle(1) \\times 2) \\times 3 = (1 \\times 2) \\times 3 = 6$\n",
    "\n",
    "1. En vous aidant de cette relation, compléter le code de la fonction factorielle suivant :"
   ]
  },
  {
   "cell_type": "code",
   "execution_count": null,
   "metadata": {},
   "outputs": [],
   "source": [
    "def factorielle(n):\n",
    "    if n == 1:\n",
    "        return ...\n",
    "    else:\n",
    "        return ..."
   ]
  },
  {
   "cell_type": "markdown",
   "metadata": {},
   "source": [
    "2. Tester les instructions suivantes :"
   ]
  },
  {
   "cell_type": "code",
   "execution_count": null,
   "metadata": {},
   "outputs": [],
   "source": [
    "factorielle(5)\n",
    "factorielle(10)\n",
    "factorielle(15)\n",
    "factorielle(20)"
   ]
  },
  {
   "cell_type": "markdown",
   "metadata": {},
   "source": [
    "3. Comment être certain que les appels à la fonction s'arrêterons ?"
   ]
  },
  {
   "cell_type": "raw",
   "metadata": {},
   "source": []
  },
  {
   "cell_type": "markdown",
   "metadata": {},
   "source": [
    "4. Déterminer le nombre d'appels à la fonction factorielle en fonction de ```n```. "
   ]
  },
  {
   "cell_type": "raw",
   "metadata": {},
   "source": []
  }
 ],
 "metadata": {
  "kernelspec": {
   "display_name": "Python 3",
   "language": "python",
   "name": "python3"
  },
  "language_info": {
   "codemirror_mode": {
    "name": "ipython",
    "version": 3
   },
   "file_extension": ".py",
   "mimetype": "text/x-python",
   "name": "python",
   "nbconvert_exporter": "python",
   "pygments_lexer": "ipython3",
   "version": "3.10.5"
  }
 },
 "nbformat": 4,
 "nbformat_minor": 2
}
