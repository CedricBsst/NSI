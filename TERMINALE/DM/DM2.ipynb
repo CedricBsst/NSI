{
 "cells": [
  {
   "cell_type": "markdown",
   "metadata": {},
   "source": [
    "# Exercice - Ecriture de la représentation binaire\n",
    "\n",
    "L’objectif de cet exercice est d’écrire deux fonctions récursives dec_to_bin et\n",
    "bin_to_dec assurant respectivement la conversion de l’écriture décimale d’un nombre\n",
    "entier vers son écriture en binaire et, réciproquement, la conversion de l’écriture en binaire\n",
    "d’un nombre vers son écriture décimale.\n",
    "\n",
    "Dans cet exercice, on s’interdit l’usage des fonctions Python bin et int.\n",
    "L’exemple suivante montre comment obtenir l’écriture en binaire du nombre 25 :\n",
    "\n",
    "$25 = 2 \\times 12 + 1$  \n",
    "$= 2 \\times (2 \\times 6 + 0) + 1$  \n",
    "$= 2 \\times (2 \\times (2 \\times 3 + 0) + 0) + 1$  \n",
    "$= 2 \\times (2 \\times (2 \\times (2 \\times 1 + 1) + 0) + 0) + 1$  \n",
    "$= 2 \\times (2 \\times (2 \\times (2 \\times (2 \\times 0 + 1) + 1) + 0) + 0) + 1$  \n",
    "$= (11001)_2$\n",
    "\n",
    "L’écriture binaire de 25 est donc 11001.\n",
    "\n",
    "On rappelle également que\n",
    "- l’expression ```a // 2``` calcule le quotient de la division euclidienne de a par 2 ;\n",
    "- l’expression ```a % 2``` calcule le reste dans la division euclidienne de a par 2.\n",
    "\n",
    "Compléter, puis tester, le code des deux fonctions :\n",
    "\n",
    "On précise que la fonction récursive ```dec_to_bin``` prend en paramètre un nombre entier et renvoie une chaîne de caractères contenant l’écriture en binaire du nombre passé en paramètre.\n",
    "\n",
    ">Exemple :\n",
    "> ```python\n",
    "> >>> dec_to_bin(25)\n",
    "> '11001'\n",
    "> ```\n",
    "\n",
    "La fonction récursive ```bin_to_dec``` prend en paramètre une chaîne de caractères représentant l’écriture d’un nombre en binaire et renvoie l’écriture décimale de ce nombre.\n",
    "> ```python\n",
    "> >>> bin_to_dec('101010')\n",
    "> 42\n",
    "> ```"
   ]
  },
  {
   "cell_type": "code",
   "execution_count": 1,
   "metadata": {},
   "outputs": [
    {
     "ename": "",
     "evalue": "",
     "output_type": "error",
     "traceback": [
      "\u001b[1;31mLe noyau s’est bloqué lors de l’exécution du code dans une cellule active ou une cellule précédente. \n",
      "\u001b[1;31mVeuillez vérifier le code dans la ou les cellules pour identifier une cause possible de l’échec. \n",
      "\u001b[1;31mCliquez <a href='https://aka.ms/vscodeJupyterKernelCrash'>ici</a> pour plus d’informations. \n",
      "\u001b[1;31mPour plus d’informations, consultez Jupyter <a href='command:jupyter.viewOutput'>log</a>."
     ]
    }
   ],
   "source": [
    "def dec_to_bin(n):\n",
    "    quotient = n // 2\n",
    "    reste = n % 2\n",
    "    if quotient == ...:\n",
    "        return ...\n",
    "    else:\n",
    "        return dec_to_bin(...) + ..."
   ]
  },
  {
   "cell_type": "code",
   "execution_count": null,
   "metadata": {},
   "outputs": [],
   "source": [
    "def bin_to_dec(chaine):\n",
    "    if len(chaine) == 1:\n",
    "        if ... == \"0\":\n",
    "            return 0\n",
    "        else:\n",
    "            return ...\n",
    "    else:\n",
    "        if chaine[len(chaine)-1] == \"0\":\n",
    "            bit_droit = 0\n",
    "        else:\n",
    "            ...\n",
    "        return ... * bin_to_dec(chaine[:-1]) + ...\n",
    "        # bin_to_dec(chaine[:-1]) permet d'obtenir la chaine de caractère à laquelle on a retiré le dernier caractère.\n"
   ]
  }
 ],
 "metadata": {
  "kernelspec": {
   "display_name": "Python 3",
   "language": "python",
   "name": "python3"
  },
  "language_info": {
   "codemirror_mode": {
    "name": "ipython",
    "version": 3
   },
   "file_extension": ".py",
   "mimetype": "text/x-python",
   "name": "python",
   "nbconvert_exporter": "python",
   "pygments_lexer": "ipython3",
   "version": "3.10.5"
  }
 },
 "nbformat": 4,
 "nbformat_minor": 2
}
