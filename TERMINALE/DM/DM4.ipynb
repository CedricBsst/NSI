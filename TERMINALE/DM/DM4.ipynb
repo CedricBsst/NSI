{
 "cells": [
  {
   "cell_type": "markdown",
   "metadata": {},
   "source": [
    "# Exercice - Depouille d'un suffrage\n",
    "\n",
    "On stocke dans un tableau l’ensemble des suffrages exprimés d’un vote ayant trois issue ‘A’, ‘B’ et ‘C’.\n",
    "\n",
    "Exemple :"
   ]
  },
  {
   "cell_type": "code",
   "execution_count": null,
   "metadata": {
    "vscode": {
     "languageId": "plaintext"
    }
   },
   "outputs": [],
   "source": [
    "Urne = [‘A’, ‘B’, ‘A’, ‘B’, ‘C’, ‘C’, ‘C’, ‘A’, ‘A’]"
   ]
  },
  {
   "cell_type": "markdown",
   "metadata": {},
   "source": [
    "La fonction ```depouille``` prend en paramètre un tableau contenant tous les suffrages et doit renvoyer le nombres de votes obtenus par chaque candidat sous la forme d’un dictionnaire.\n",
    "\n",
    "La fonction ```vainqueur``` prend en paramètre un dictionnaire contenant le nombre de votes obtenus par chaque candidat et doit renvoyer un tableau contenant le vainqueur de l’election. Le tableau doit contenir plusieurs élément en cas d’égalité de vote."
   ]
  },
  {
   "cell_type": "code",
   "execution_count": null,
   "metadata": {
    "vscode": {
     "languageId": "plaintext"
    }
   },
   "outputs": [],
   "source": [
    "def depouille(urne):\n",
    "    resultat = ...\n",
    "    for bulletin in urne:\n",
    "        if ...:\n",
    "            resultat[bulletin] = resultat[bulletin] + 1\n",
    "        else:\n",
    "            ...\n",
    "    return resultat\n",
    "\n"
   ]
  },
  {
   "cell_type": "code",
   "execution_count": null,
   "metadata": {
    "vscode": {
     "languageId": "plaintext"
    }
   },
   "outputs": [],
   "source": [
    "def vainqueur(election):\n",
    "    vainqueur = ''\n",
    "    nmax = 0\n",
    "    for candidat in election:\n",
    "        if ... > ... :\n",
    "            nmax = ...\n",
    "            vainqueur = candidat\n",
    "    liste_finale = [nom for nom in election if election[nom] == ...]\n",
    "    return ..."
   ]
  },
  {
   "cell_type": "markdown",
   "metadata": {},
   "source": [
    "Exemple d’utilisation\n",
    "```python\n",
    ">>> election = depouille(Urne)\n",
    ">>> election\n",
    "{ ‘A’ : 4, ‘B’ : 2, ‘C’ : 3 }\n",
    ">>> vainqueur(election)\n",
    "[‘A’]\n",
    "```"
   ]
  },
  {
   "cell_type": "markdown",
   "metadata": {},
   "source": [
    "Compléter les fonctions ```depouille``` et ```vainqueur``` pour qu'elles renvoient les valeurs attendues."
   ]
  }
 ],
 "metadata": {
  "language_info": {
   "name": "python"
  }
 },
 "nbformat": 4,
 "nbformat_minor": 2
}
