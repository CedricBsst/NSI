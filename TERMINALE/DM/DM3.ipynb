{
 "cells": [
  {
   "cell_type": "markdown",
   "metadata": {},
   "source": [
    "# Exercice - Fonction recherche\n",
    "\n",
    "Programmer la fonction ```recherche```.\n",
    "\n",
    "La fonction prend en paramètre : \n",
    "- Un tableau non vide d'entiers ```l``` de type ```list```.\n",
    "- Un entier ```n``` de type ```int```.\n",
    "\n",
    "La fonction renvoie l'indice de la **dernière** occurence de l'élément recherché. Si l'élément n'est pas présent dans la liste, la fonction renvoie ```-1```."
   ]
  },
  {
   "cell_type": "code",
   "execution_count": null,
   "metadata": {},
   "outputs": [],
   "source": [
    "# Ecrire votre code ici !"
   ]
  },
  {
   "cell_type": "code",
   "execution_count": null,
   "metadata": {},
   "outputs": [],
   "source": [
    "# Tester votre fonction en exécutant ce code.\n",
    "# Si rien ne se passe, cela signifie qu'il n'y a pas d'erreur\n",
    "# Si une erreur se déclenche, cela signifie que votre code n'est pas correct\n",
    "\n",
    "assert recherche([4,8],8)==1\n",
    "assert recherche([1,5,2,7],5)==-1\n",
    "assert recherche([1,4,8,9,5,1,2,3,4,0],1)==5"
   ]
  }
 ],
 "metadata": {
  "kernelspec": {
   "display_name": "Python 3",
   "language": "python",
   "name": "python3"
  },
  "language_info": {
   "codemirror_mode": {
    "name": "ipython",
    "version": 3
   },
   "file_extension": ".py",
   "mimetype": "text/x-python",
   "name": "python",
   "nbconvert_exporter": "python",
   "pygments_lexer": "ipython3",
   "version": "3.10.5"
  }
 },
 "nbformat": 4,
 "nbformat_minor": 2
}
