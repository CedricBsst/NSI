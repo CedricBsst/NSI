{
 "cells": [
  {
   "cell_type": "markdown",
   "metadata": {},
   "source": [
    "# Parcours en largeur d'abord d'un arbre binaire\n",
    "\n",
    "On considère l'arbre binaire suivant :\n",
    "\n",
    "![Arbre](./media/DM7.jpg)\n",
    "\n",
    "Le parcours en largeur d'abord de cette arbre donne le résultat suivant : \n",
    "\n",
    "```[2,4,10,6,5,11]```\n",
    "\n",
    "On utilisera des listes pour représenter les arbres binaires :\n",
    "- 3 valeurs (valeur de la racine, sous arbre gauche, sous arbre droit) pour les arbres non vides.\n",
    "- La liste vide pour les arbres vides.\n",
    "\n",
    "Implémentation de l'arbre ci-dessus : "
   ]
  },
  {
   "cell_type": "code",
   "execution_count": 3,
   "metadata": {},
   "outputs": [],
   "source": [
    "a = [2,[4,[6,[],[]],[5,[],[]]],[10,[],[11,[],[]]]]\n"
   ]
  },
  {
   "cell_type": "markdown",
   "metadata": {},
   "source": [
    "- Écrire la fonction parcours qui prend un arbre en paramètre et qui renvoie la liste contenant les valeurs des noeuds de l'arbre en suivant un parcours en largeur d'abord."
   ]
  },
  {
   "cell_type": "code",
   "execution_count": null,
   "metadata": {},
   "outputs": [],
   "source": [
    "def parcours_en_largeur(arbre):\n",
    "    pass"
   ]
  }
 ],
 "metadata": {
  "kernelspec": {
   "display_name": "Python 3",
   "language": "python",
   "name": "python3"
  },
  "language_info": {
   "codemirror_mode": {
    "name": "ipython",
    "version": 3
   },
   "file_extension": ".py",
   "mimetype": "text/x-python",
   "name": "python",
   "nbconvert_exporter": "python",
   "pygments_lexer": "ipython3",
   "version": "3.10.5"
  }
 },
 "nbformat": 4,
 "nbformat_minor": 2
}
