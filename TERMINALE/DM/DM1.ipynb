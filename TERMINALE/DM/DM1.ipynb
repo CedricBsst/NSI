{
 "cells": [
  {
   "cell_type": "markdown",
   "metadata": {},
   "source": [
    "# Exercice - Compter les lettres d'une chaîne de caractères\n",
    "On considère la chaîne de caractère suivante : "
   ]
  },
  {
   "cell_type": "code",
   "execution_count": 1,
   "metadata": {},
   "outputs": [],
   "source": [
    "text = \"lorem ipsum dolor sit amet, consectetur adipiscing elit\""
   ]
  },
  {
   "cell_type": "markdown",
   "metadata": {},
   "source": [
    "> Cette chaîne de caractère est un faux texte latin. Il est très utilisé pour réaliser des mise en page lorsque le texte finale d'une page n'est pas encore terminé.\n",
    "> \n",
    "> [Plus d'informations](https://fr.wikipedia.org/wiki/Lorem_ipsum)\n",
    "\n",
    "Notre objectif et de réaliser le dictionnaire suivant : \n",
    "```python\n",
    "{' ': 7, 'i': 6, 'e': 5, 't': 5, 'o': 4, 's': 4, 'l': 3, 'r': 3, 'm': 3, 'c': 3, 'p': 2, 'u': 2, 'd': 2, 'a': 2, 'n': 2, 'g': 1}\n",
    "```\n",
    "\n",
    "Ce dictionnaire contient le nombre d'apparition d'un caractère dans la chaîne précédente. \n",
    "\n",
    "Ecrire une fonction ```comptage``` permettant d'obtenir à partir de la chaîne de caractères le dictionnaire associés."
   ]
  },
  {
   "cell_type": "code",
   "execution_count": 2,
   "metadata": {},
   "outputs": [],
   "source": [
    "def comptage(chaine):\n",
    "    pass"
   ]
  },
  {
   "cell_type": "markdown",
   "metadata": {},
   "source": [
    "Utilisez votre fonction avec les chaînes suivantes :\n",
    "\n",
    "- ```\"lorem ipsum dolor sit amet, consectetur adipiscing elit\"```\n",
    "- ```\"Je suis un élève de terminale.\"```"
   ]
  },
  {
   "cell_type": "code",
   "execution_count": null,
   "metadata": {},
   "outputs": [],
   "source": []
  }
 ],
 "metadata": {
  "kernelspec": {
   "display_name": "Python 3",
   "language": "python",
   "name": "python3"
  },
  "language_info": {
   "codemirror_mode": {
    "name": "ipython",
    "version": 3
   },
   "file_extension": ".py",
   "mimetype": "text/x-python",
   "name": "python",
   "nbconvert_exporter": "python",
   "pygments_lexer": "ipython3",
   "version": "3.10.5"
  }
 },
 "nbformat": 4,
 "nbformat_minor": 2
}
