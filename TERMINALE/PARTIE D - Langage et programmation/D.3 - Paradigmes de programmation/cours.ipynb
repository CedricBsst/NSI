{
 "cells": [
  {
   "cell_type": "markdown",
   "id": "1b610a6f",
   "metadata": {},
   "source": [
    "# Chapitre D.3 - Paradigmes de programmation \n",
    "## I. Introduction \n",
    "**Définition :** Le paradigme de programmation est la façon (parmi d'autres) d'approcher la programmation informatique et de formuler les solutions aux problèmes et leur formalisation dans un langage de programmation approprié. \n",
    "\n",
    "Un paradigme de programmation fournit la vue du développeur par rapport à l’exécution de son programme. \n",
    "\n",
    "De la même manière que des courants différents du génie logiciel préconisent des méthodes différentes, des langages de programmation différents plaident pour des « paradigmes de programmation » différents. \n",
    "\n",
    "Certains langages sont conçus pour supporter un paradigme (en particulier Smalltalk et Java, qui supportent la programmation orientée objet, tandis que Haskell supporte la programmation fonctionnelle), alors que d’autres supportent des paradigmes multiples (à l’image de C++, Common Lisp, OCaml, Oz, Python, Ruby, Scala ou Scheme). "
   ]
  },
  {
   "cell_type": "markdown",
   "id": "83e52e3b",
   "metadata": {},
   "source": [
    "Il existe trois grand type de paradigmes de programmations :\n",
    "\n",
    "- La programmation **impérative** : paradigme le plus courant. Les opérations sont décrite en une suite d'opérations élémentaires exècutés par l'ordinateur permettant de modifier l'état du programme.\n",
    "- La programmation **orientée objets** : Assemblage de briques logicielles appelés objets.\n",
    "- La programmation **déclarative** : Création d'applications basé sur des composants logiciels indépendant et ne comportant aucun état interne.\n",
    "\n"
   ]
  },
  {
   "cell_type": "markdown",
   "id": "5219377c",
   "metadata": {},
   "source": [
    "## II. Comprendre les différences entre les paradigmes\n",
    "\n",
    "Par la suite, nous utiliserons un exemple issu de [opensource.com](https://opensource.com/article/19/10/python-programming-paradigms)\n",
    "\n",
    "Notre objectif est de concaténer une liste de caractère en chaine de caractères :\n",
    "\n",
    "```\n",
    "ENTREE : ['p', 'y', 't', 'h', 'o', 'n']\n",
    "SORTIE : 'python'\n",
    "```\n",
    "\n",
    "### A. La programmation impérative\n",
    "La programmation impérative correspond au paradigme de programmation le plus courant. Ce paradigme décrit les opérations comme une séquence d’instructions exécutées par l’ordinateur pour modifier l’état du programme. \n",
    "\n",
    "La quasi-totalité des processeurs qui équipent les ordinateurs sont de nature impérative : ils sont faits pour exécuter une suite d'instructions élémentaires\n",
    "\n",
    "La programmation impérative se concentre sur la description du fonctionnement d’un programme : le **comment**.\n"
   ]
  },
  {
   "cell_type": "code",
   "execution_count": null,
   "id": "36138a8b",
   "metadata": {},
   "outputs": [],
   "source": [
    "entree = ['p', 'y', 't', 'h', 'o', 'n']\n",
    "sortie = \"\"\n",
    "for c in entree:\n",
    "    sortie = sortie + c\n",
    "\n",
    "print(sortie)"
   ]
  },
  {
   "cell_type": "markdown",
   "id": "f52687cd",
   "metadata": {},
   "source": [
    "La programmation impérative est facile à comprendre et très efficage puisque les instructions sont proches des instruction réalisés par un processeur.\n",
    "\n",
    "En revanche, il peut être difficile à tester car l'état du programme dépend des instructions précédente. Il est plus difficile de tester une petite partie du programme au milieu de son exécution par exemple car elle ne nécessite que toutes les instructions précédentes aient déjà été appliquées correctement."
   ]
  },
  {
   "cell_type": "markdown",
   "id": "c6d5364d",
   "metadata": {},
   "source": [
    "### B. La programmation fonctionnelle\n",
    "En programmation fonctionnelle on décrit les résultats que l’on veut obtenir à partir des données plutôt que la séquence d’instructions qui permettent d’obtenir les résultats (c’est un paradigme déclaratif).\n",
    "\n",
    "L’approche fonctionnelle considère le calcul en tant qu’évaluation de fonctions mathématiques. Vous donnez vos données en entrée aux fonctions, qui vous renvoient les valeurs calculées en sortie.\n",
    "\n",
    "L’utilisation massive de fonctions a amené à la création d’une syntaxe raccourcie pour la définition de fonctions anonymes, les fonctions lambdas :\n",
    "\n",
    "``` python\n",
    "lambda param1, ... , paramN: valeur_retournée\n",
    "```\n",
    "\n",
    "au lieu de \n",
    "\n",
    "```python\n",
    "def ma_fonction(param1, ..., paramN):\n",
    "    return valeur retournée\n",
    "```\n",
    "\n",
    "En programmation fonctionnelle, il n’y a pas d’état, l’opération d’affectation est interdite, ce qui permet de s’affranchir des effets de bord.\n",
    "\n",
    "Pour permettre ce type de programmation, on remplace généralement l'utilisations des boucles par des fonctions récursives."
   ]
  },
  {
   "cell_type": "code",
   "execution_count": null,
   "id": "818da125",
   "metadata": {},
   "outputs": [],
   "source": [
    "entree = ['p', 'y', 't', 'h', 'o', 'n']\n",
    "def list_tostring(l):\n",
    "    if len(l) == 0:\n",
    "        return \"\"\n",
    "    else:\n",
    "        return l[0] + list_tostring([l[i] for i in range(1, len(l))])\n",
    "    \n",
    "print(list_tostring(entree))"
   ]
  },
  {
   "cell_type": "markdown",
   "id": "5ecdca45",
   "metadata": {},
   "source": [
    "### B. La programmation orientée objets\n",
    "La POO consiste en la définition et l’interaction de briques logicielles appelées objets; un objet représente un concept, une idée ou toute entité du monde physique, comme une voiture, une personne ou encore une page d’un livre.\n",
    "\n",
    "Un objet possède \n",
    "- ses attributs\n",
    "- ses méthodes"
   ]
  },
  {
   "cell_type": "code",
   "execution_count": null,
   "id": "a9c51380",
   "metadata": {},
   "outputs": [],
   "source": [
    "class ListLettres:\n",
    "    def __init__(self, l):\n",
    "        self.lettres = l\n",
    "        self.string = ''.join(l)\n",
    "\n",
    "    def get_string(self):\n",
    "        return self.string\n",
    "\n",
    "entree = ['p', 'y', 't', 'h', 'o', 'n']\n",
    "objet = ListLettres(entree)\n",
    "print(objet.get_string())\n"
   ]
  },
  {
   "cell_type": "markdown",
   "id": "619d45c1",
   "metadata": {},
   "source": [
    "Les différents principes de la conception orientée objet aident à la réutilisation du code, au masquage des données, etc., mais c’est une bête complexe, et comprendre toute la logique des objets et de leurs interactions est délicat et souvent difficile à tester en raison de ces interdépendances."
   ]
  },
  {
   "cell_type": "markdown",
   "id": "8e6bcf03",
   "metadata": {},
   "source": [
    "# III. Choisir le paradigme adapté à son projet\n",
    "- Si votre problème implique une série de manipulations séquentielles simples, suivre le paradigme de programmation impérative, celle-ci sera la moins cher en termes de temps et d’efforts et vous donnerait potentiellement les meilleures performances.\n",
    "\n",
    "- Dans le cas de problèmes nécessitant des transformations mathématiques des valeurs, le filtrage des informations, le mappage( transformer une liste en une autre) et les réductions( transformer une liste en une valeur), la programmation fonctionnelle pourrait être adaptée.\n",
    "\n",
    "- Si le problème est structuré comme un tas d’objets interdépendants avec certains attributs qui peuvent changer avec le temps, en fonction de certaines conditions, la programmation orientée objet sera certainement la plus naturelle.\n",
    "\n",
    " Bien sûr, il n’y a pas de règle simple, car le choix du paradigme de programmation dépend également fortement du type de données à traiter, des connaissances des programmeurs et de diverses autres choses comme l’évolutivité."
   ]
  },
  {
   "cell_type": "markdown",
   "id": "27cfa7d9",
   "metadata": {},
   "source": [
    "> Il existe une multitude de paradigme de programmation dérivé de ces trois grandes familles de paradigmes :\n",
    "> \n",
    "> - Programmation événementielle (Consiste à répondre à des événements – très utilisé pour les interfaces \n",
    "graphiques) \n",
    "> - Programmation logique (Consiste à exprimer les problèmes et les algorithmes sous forme de prédicats)\n",
    "> - Programmation procédurale (Consiste à découper son programme en routine ou sous-routine appelé procédure ou fonction, celle ci contienne simplement une série d'étapes à réaliser)"
   ]
  }
 ],
 "metadata": {
  "language_info": {
   "name": "python"
  }
 },
 "nbformat": 4,
 "nbformat_minor": 5
}
