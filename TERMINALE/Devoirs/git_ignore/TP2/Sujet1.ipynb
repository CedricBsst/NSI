{
 "cells": [
  {
   "cell_type": "markdown",
   "metadata": {},
   "source": [
    "# Type epreuve pratique - Sujet 1\n",
    "\n",
    "## Exercice 1\n",
    "Écrire la fonction maximum_tableau, prenant en paramètre un tableau non vide de nombres tab (de type list) et renvoyant le plus grand élément de ce tableau.\n",
    "\n",
    "Exemples :\n",
    "```python\n",
    ">>> maximum_tableau([98, 12, 104, 23, 131, 9])\n",
    "131\n",
    ">>> maximum_tableau([-27, 24, -3, 15])\n",
    "24\n",
    "``` "
   ]
  },
  {
   "cell_type": "code",
   "execution_count": null,
   "metadata": {},
   "outputs": [],
   "source": [
    "# Ecrire le programme ici !"
   ]
  },
  {
   "cell_type": "markdown",
   "metadata": {},
   "source": [
    "## Exercice 2\n",
    "\n",
    "On considère dans cet exercice l’élection d’un vainqueur à l’issue d’un vote. Les résultats\n",
    "du vote sont stockés dans un tableau : chaque vote exprimé est le nom d’un ou d’une\n",
    "candidate.\n",
    "Par exemple, les résultats pourraient correspondre au tableau :\n",
    "```python\n",
    "urne = ['A', 'A', 'A', 'B', 'C', 'B', 'C', 'B', 'C', 'B']\n",
    "```\n",
    "indiquant que 3 candidats ont obtenus au moins un vote chacun : A, B et C.\n",
    "\n",
    "On cherche à déterminer le ou les candidats ayant obtenu le plus de suffrages. Pour cela, on\n",
    "propose d’écrire deux fonctions :\n",
    "- la fonction depouille doit permettre de compter le nombre de votes exprimés pour\n",
    "chacune des issues. Elle prend en paramètre un tableau et renvoie le résultat dans un\n",
    "dictionnaire dont les clés sont les noms des issues et les valeurs le nombre de votes\n",
    "en leur faveur ;\n",
    "- la fonction vainqueurs doit désigner le nom du ou des gagnants. Elle prend en\n",
    "paramètre un dictionnaire non vide dont la structure est celle du dictionnaire renvoyé\n",
    "par la fonction depouille et renvoie un tableau. Ce tableau peut donc contenir\n",
    "plusieurs éléments s’il y a des artistes ex-aequo.\n",
    "\n",
    "Compléter les fonctions depouille et vainqueurs ci-après pour qu’elles renvoient les\n",
    "résultats attendus."
   ]
  },
  {
   "cell_type": "code",
   "execution_count": null,
   "metadata": {},
   "outputs": [],
   "source": [
    "def depouille(urne):\n",
    "    '''prend en paramètre une liste de suffrages et renvoie un\n",
    "    dictionnaire avec le nombre de voix pour chaque candidat'''\n",
    "    resultat = ...\n",
    "    for bulletin in urne:\n",
    "        if ...:\n",
    "            resultat[bulletin] = resultat[bulletin] + 1\n",
    "        else:\n",
    "            ...\n",
    "    return resultat\n",
    "\n",
    "def vainqueurs(election):\n",
    "    '''prend en paramètre un dictionnaire non vide avec le nombre de voix\n",
    "    pour chaque candidat et renvoie la liste des vainqueurs'''\n",
    "    nmax = 0\n",
    "    for candidat in election:\n",
    "        if ... > ... :\n",
    "            nmax = ...\n",
    "    liste_finale = [ nom for nom in election if ... ]\n",
    "    return ..."
   ]
  }
 ],
 "metadata": {
  "kernelspec": {
   "display_name": "Python 3",
   "language": "python",
   "name": "python3"
  },
  "language_info": {
   "name": "python",
   "version": "3.13.2"
  }
 },
 "nbformat": 4,
 "nbformat_minor": 2
}
