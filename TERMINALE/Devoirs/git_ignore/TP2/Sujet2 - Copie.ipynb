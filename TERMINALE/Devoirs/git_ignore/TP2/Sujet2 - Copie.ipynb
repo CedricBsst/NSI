{
 "cells": [
  {
   "cell_type": "markdown",
   "metadata": {},
   "source": [
    "# Type epreuve pratique - Sujet 2\n",
    "\n",
    "## Exercice 1\n",
    "Programmer la fonction ```multiplication```, prenant en paramètres deux nombres entiers ```n1```et ```n2```, et qui renvoie le produit de ces deux nombres/\n",
    "\n",
    "Les seules opérations autorisées sont l'addition et la soustraction.\n",
    "\n",
    "Exemples :\n",
    "```python\n",
    ">>> multiplication(3, 5)\n",
    "15\n",
    ">>> multiplication(-4, -8)\n",
    "32\n",
    ">>> multiplication(-2, 6)\n",
    "-12\n",
    ">>> multiplication(-2, 0)\n",
    "0\n",
    "```"
   ]
  },
  {
   "cell_type": "code",
   "execution_count": null,
   "metadata": {},
   "outputs": [],
   "source": [
    "# Ecrire le programme ici !"
   ]
  },
  {
   "cell_type": "markdown",
   "metadata": {},
   "source": [
    "## Exercice 2\n",
    "Un nombre premier est un nombre entier naturel qui admet exactement deux diviseurs distincts entiers et positifs : 1 et lui-même.\n",
    "\n",
    "Le crible d’Ératosthène permet de déterminer les nombres premiers plus petits qu’un certain nombre entier n fixé, strictement supérieur à 1.\n",
    "\n",
    "On considère pour cela un tableau tab de n booléens, initialement tous égaux à True, sauf ```tab[0]``` et ```tab[1]``` qui valent ```False```, 0 et 1 n’étant pas des nombres premiers.\n",
    "\n",
    "On parcourt alors ce tableau de gauche à droite.\n",
    "\n",
    "Pour chaque indice i :\n",
    "- si ```tab[i]``` vaut ```True``` : le nombre i est premier et on donne la valeur ```False``` à toutes les cases du tableau dont l’indice est un multiple de i, à partir de 2*i (c’est-à-dire 2*i, 3*i …).\n",
    "- si tab[i] vaut False : le nombre i n’est pas premier et on n’effectue aucun changement sur le tableau.\n",
    "\n",
    "On dispose de la fonction crible, incomplète et donnée ci-dessous, prenant en paramètre un entier n strictement supérieur à 1 et renvoyant un tableau contenant tous les nombres premiers plus petits que n."
   ]
  },
  {
   "cell_type": "code",
   "execution_count": null,
   "metadata": {},
   "outputs": [
    {
     "ename": "",
     "evalue": "",
     "output_type": "error",
     "traceback": [
      "\u001b[1;31mRunning cells with 'Python 3.13.2' requires the ipykernel package.\n",
      "\u001b[1;31mRun the following command to install 'ipykernel' into the Python environment. \n",
      "\u001b[1;31mCommand: 'c:/Users/ced80/AppData/Local/Microsoft/WindowsApps/python3.13.exe -m pip install ipykernel -U --user --force-reinstall'"
     ]
    }
   ],
   "source": [
    "def crible(n):\n",
    "    \"\"\"\n",
    "    Renvoie un tableau contenant tous les nombres premiers plus petits que n\n",
    "    \"\"\"\n",
    "    premiers = []\n",
    "    tab = [True] * n\n",
    "    tab[0], tab[1] = False, False\n",
    "    for i in range(..., n):\n",
    "        if tab[i] == ...:\n",
    "            premiers.append(...)\n",
    "            for multiple in range(2 * i, n, ...):\n",
    "                tab[multiple] = ...\n",
    "    return premiers\n",
    "assert crible(40) == [2, 3, 5, 7, 11, 13, 17, 19, 23, 29, 31, 37]"
   ]
  }
 ],
 "metadata": {
  "kernelspec": {
   "display_name": "Python 3",
   "language": "python",
   "name": "python3"
  },
  "language_info": {
   "name": "python",
   "version": "3.13.2"
  }
 },
 "nbformat": 4,
 "nbformat_minor": 2
}
