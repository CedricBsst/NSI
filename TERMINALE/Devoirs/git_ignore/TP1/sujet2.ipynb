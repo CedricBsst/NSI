{
 "cells": [
  {
   "cell_type": "markdown",
   "metadata": {},
   "source": [
    "# Exercice 1\n",
    "Ecrire une fonction ```mini(l)``` qui prend une liste ```l``` en paramètre et qui renvoie l'indice du plus grand élément de la liste.\n",
    "\n",
    "Dans le cas de la liste vide, votre fonction renverra ```NONE```."
   ]
  },
  {
   "cell_type": "code",
   "execution_count": 1,
   "metadata": {},
   "outputs": [],
   "source": [
    "# Votre fonction ici !"
   ]
  },
  {
   "cell_type": "markdown",
   "metadata": {},
   "source": [
    "```python\n",
    ">>> mini([-1, 4, 2, -5, 7])\n",
    "3\n",
    ">>> mini([1,4,1,3,5])\n",
    "0\n",
    ">>> mini([])\n",
    "None\n",
    "```"
   ]
  },
  {
   "cell_type": "markdown",
   "metadata": {},
   "source": [
    "# Exercice 2\n",
    "Le conversion d'un nombre entier positif en binaire peut se faire en réalisant une suite division successive par 2.\n",
    "\n",
    "- $89 = 2 \\times 44 + 1$\n",
    "- $44 = 2 \\times 22 + 0$\n",
    "- $22 = 2 \\times 11 + 0$\n",
    "- $11 = 2 \\times 5 + 1$\n",
    "- $5 = 2 \\times 2 + 1$\n",
    "- $2 = 2 \\times 1 + 0$\n",
    "- $1 = 2 \\times 0 + 1$\n",
    "\n",
    "Pour obtenir le nombre écrit en binaire, on prend l'ensemble des restes du bas vers le haut.\n",
    "\n",
    "Compléter la fonction ```dec_bin``` ci-dessous qui utilise cette méthode de conversion."
   ]
  },
  {
   "cell_type": "code",
   "execution_count": null,
   "metadata": {},
   "outputs": [],
   "source": [
    "def dec_bin(nb):\n",
    "    bin_nb = str(...)\n",
    "    nb = ...\n",
    "    while nb ...:\n",
    "        bin_nb = ...(nb%2) + ...\n",
    "        nb = ...\n",
    "    return bin_nb\n",
    "\n",
    "\n",
    "assert(dec_bin(89) == '1011001')\n",
    "assert(dec_bin(0) == '0')\n",
    "assert(dec_bin(10) == '1010')"
   ]
  }
 ],
 "metadata": {
  "kernelspec": {
   "display_name": "Python 3",
   "language": "python",
   "name": "python3"
  },
  "language_info": {
   "codemirror_mode": {
    "name": "ipython",
    "version": 3
   },
   "file_extension": ".py",
   "mimetype": "text/x-python",
   "name": "python",
   "nbconvert_exporter": "python",
   "pygments_lexer": "ipython3",
   "version": "3.10.5"
  }
 },
 "nbformat": 4,
 "nbformat_minor": 2
}
