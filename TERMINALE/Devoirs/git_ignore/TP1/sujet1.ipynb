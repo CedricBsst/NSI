{
 "cells": [
  {
   "cell_type": "markdown",
   "metadata": {},
   "source": [
    "# Exercice 1 (10 pts)\n",
    "\n",
    "Ecrire une fonction ```recherche(t,elt)``` qui prend une liste d'entiers ```t``` et un entier ```elt``` en pramètre.\n",
    "\n",
    "Votre fonction renvoie un entier correspondant à l'indice de la dernière occurence de ```elt``` dans ```t```.\n",
    "Si ```elt```n'est pas dans ```t``` votre fonction renvoie ```-1```."
   ]
  },
  {
   "cell_type": "code",
   "execution_count": null,
   "metadata": {},
   "outputs": [],
   "source": [
    "# Votre fonction ici !"
   ]
  },
  {
   "cell_type": "markdown",
   "metadata": {},
   "source": [
    "```python\n",
    ">>> rechercher([1,2,3,4,1,2,6], 9)\n",
    "-1\n",
    ">>> rechercher([1,2,3,4,1,2,6], 4)\n",
    "3\n",
    ">>> rechercher([1,2,3,4,1,2,6], 2)\n",
    "5"
   ]
  },
  {
   "cell_type": "markdown",
   "metadata": {},
   "source": [
    "# Exercice 2 (10 pts)\n",
    "Le jeu du \"Plus ou moins\" est un jeu dans lequel l'objectifest de deviner un nombre entier compris entre 1 et 100.\n",
    "\n",
    "On décide de coder le le jeu de la façon suivante : \n",
    "- L'ordinateur génére un nombre entier aléatoire entre 1 et 100.\n",
    "- Le joueur fait une proposition et l'ordinateur lui indique si le nombre aléatoire etplus petit ou plus grand\n",
    "- Si l’utilisateur trouve le bon nombre en 10 essais ou moins, il gagne ;\n",
    "- Si l’utilisateur a fait plus de 10 essais sans trouver le bon nombre, il perd.\n",
    "\n",
    "La fonction randint est utilisée. Si a et b sont des entiers, randint(a,b) renvoie un nombre entier compris entre a et b.\n",
    "\n",
    "Compléter le code ci-dessous et le tester : "
   ]
  },
  {
   "cell_type": "code",
   "execution_count": null,
   "metadata": {},
   "outputs": [
    {
     "name": "stdout",
     "output_type": "stream",
     "text": [
      "Plus grand\n",
      "Plus petit\n",
      "Plus petit\n",
      "Plus petit\n",
      "Plus petit\n",
      "Plus petit\n",
      "Plus petit\n",
      "Bravo vous avez gagné !\n",
      "Le nombre était 51\n",
      "Nombre d'essai :  8\n"
     ]
    }
   ],
   "source": [
    "from random import randint\n",
    "def plus_ou_moins():\n",
    "    nb = randint(1,100)\n",
    "    compteur = ...\n",
    "    proposition = int(input(\"Entrer un nombre compris entre 1 et 99\"))\n",
    "    while proposition != ... and compteur < ...:\n",
    "        compteur = compteur + ...\n",
    "        if nb ... proposition:\n",
    "            print(\"Plus petit\")\n",
    "        else:\n",
    "            print(\"Plus grand\")\n",
    "        proposition = int(input(\"Entrer un nombre compris entre 1 et 99\"))\n",
    "    \n",
    "    if ...:\n",
    "        print(\"Bravo vous avez gagné !\")\n",
    "        print(\"Le nombre était\", ...)\n",
    "        print(\"Nombre d'essai : \", ...)\n",
    "    else:\n",
    "        print(\"Vous avez perdu\")\n",
    "        print(\"Le nombre était\", ...)\n",
    "\n",
    "plus_ou_moins()\n"
   ]
  }
 ],
 "metadata": {
  "kernelspec": {
   "display_name": "Python 3",
   "language": "python",
   "name": "python3"
  },
  "language_info": {
   "codemirror_mode": {
    "name": "ipython",
    "version": 3
   },
   "file_extension": ".py",
   "mimetype": "text/x-python",
   "name": "python",
   "nbconvert_exporter": "python",
   "pygments_lexer": "ipython3",
   "version": "3.10.5"
  }
 },
 "nbformat": 4,
 "nbformat_minor": 2
}
