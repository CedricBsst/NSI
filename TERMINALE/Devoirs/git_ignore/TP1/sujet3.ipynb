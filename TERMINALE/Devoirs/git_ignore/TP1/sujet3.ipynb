{
 "cells": [
  {
   "cell_type": "markdown",
   "metadata": {},
   "source": [
    "# Exercice 1\n",
    "Ecrire une fonction ```moyenne``` qui prend une liste d'entiers  ```l``` en paramètre et qui renvoie la moyenne des éléments de la liste.\n",
    "\n",
    "Dans le cas de la liste vide, la fonction renverra None"
   ]
  },
  {
   "cell_type": "code",
   "execution_count": null,
   "metadata": {},
   "outputs": [],
   "source": [
    "# Votre fonction ici !"
   ]
  },
  {
   "cell_type": "markdown",
   "metadata": {},
   "source": [
    "```python\n",
    ">>> moyenne([0,5,10,15,20])\n",
    "15\n",
    ">>> moyenne([1,2])\n",
    "1.5\n",
    ">>>moyenne([])\n",
    "None\n",
    "```\n"
   ]
  },
  {
   "cell_type": "markdown",
   "metadata": {},
   "source": [
    "# Exercice 2 \n",
    "On affecte à chaque lettre de l’alphabet un code selon les tableaux ci-dessous :\n",
    "\n",
    "|A|B|C|D|E|F|G|H|I|J|K|L|M|N|O|P|Q|R|S|T|U|V|W|X|Y|Z|\n",
    "|-|-|-|-|-|-|-|-|-|-|-|-|-|-|-|-|-|-|-|-|-|-|-|-|-|-|\n",
    "|1|2|3|4|5|6|7|8|9|10|11|12|13|14|15|16|17|18|19|20|21|22|23|24|25|26|\n",
    "\n",
    "- Pour obtenir le code alphabétique concaténé d'un mot, on concatène les nombres correspondant à chaque lettres du mot.\n",
    "\n",
    "**Exemple :** \n",
    "- Pour le mot \"PROG\" :\n",
    "\n",
    "|P|R|O|G|\n",
    "|-|-|-|-|\n",
    "|16|18|15|7|\n",
    "\n",
    "Le code alphabétique concaténé est $1618157$\n",
    "\n",
    "___\n",
    "- Pour obtenir le code alphabétique additionné d'un mot, on fait la somme des nombres correspondant à chacune des lettre du mot.\n",
    "**Exemple :** \n",
    "- Pour le mot \"PROG\" :\n",
    "\n",
    "|P|R|O|G|\n",
    "|-|-|-|-|\n",
    "|16|18|15|7|\n",
    "\n",
    "Le code alphabétique additionné est $16+18+15+7 = 56$\n",
    "\n",
    "___\n",
    "Un mot est parfait si son code alphabétique additionné divise son code alphabétique concaténé.\n",
    "\n",
    "**Exemple :**\n",
    "- Pour le mot \"PROG\"\n",
    "$56$ ne divise pas l'entier $1618157$ donc \"PROG\" n'est pas parfait.\n",
    "\n",
    "___\n",
    "**Exemple :**\n",
    "- Pour le mot \"ALAIN\"\n",
    "    - Code alphabétique concaténé : $1 612 112$\n",
    "    - Code alphabétique additionné : $37$ car $1 + 12 + 1 + 9 + 14 = 37$\n",
    "    - $37$ divise l'entier $1 612 112$ donc \"ALAIN\" est un mot parfait\n",
    "\n",
    "Compléter la fonction est_parfait ci-dessous qui prend comme argument une chaîne de caractères mot (en lettres majuscules) et qui renvoie un booléen qui indique si mot est parfait ou pas.\n",
    "\n",
    "\n"
   ]
  },
  {
   "cell_type": "code",
   "execution_count": null,
   "metadata": {},
   "outputs": [],
   "source": [
    "dico = {\"A\":1, \"B\":2, \"C\":3, \"D\":4, \"E\":5, \"F\":6, \"G\":7, \\\n",
    "        \"H\":8, \"I\":9, \"J\":10, \"K\":11, \"L\":12, \"M\":13, \\\n",
    "        \"N\":14, \"O\":15, \"P\":16, \"Q\":17, \"R\":18, \"S\":19, \\\n",
    "        \"T\":20, \"U\":21,\"V\":22, \"W\":23, \"X\":24, \"Y\":25, \"Z\":26}\n",
    "\n",
    "def est_parfait(mot, dico) :\n",
    "    #mot est une chaîne de caractères (en lettres majuscules)\n",
    "    code_conc = \"\"\n",
    "    code_add = ...\n",
    "    for c in mot :\n",
    "        code_conc = code_conc + ...\n",
    "        code_add = ...\n",
    "    code_c = int(code_c)\n",
    "    if ... :\n",
    "        mot_est_parfait = True\n",
    "    else :\n",
    "        mot_est_parfait = False\n",
    "    return ...\n",
    "\n"
   ]
  }
 ],
 "metadata": {
  "language_info": {
   "name": "python"
  }
 },
 "nbformat": 4,
 "nbformat_minor": 2
}
